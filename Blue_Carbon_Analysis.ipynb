{
 "cells": [
  {
   "cell_type": "markdown",
   "id": "4e01543c-f937-4c8f-b78f-516ab51f3ac9",
   "metadata": {},
   "source": [
    "# Blue Carbon Analysis"
   ]
  },
  {
   "cell_type": "code",
   "execution_count": 1,
   "id": "8c46d113-b7eb-4ead-b8db-79180c67536b",
   "metadata": {},
   "outputs": [],
   "source": [
    "import ee\n",
    "import geemap\n",
    "import matplotlib.pyplot as plt"
   ]
  },
  {
   "cell_type": "code",
   "execution_count": 4,
   "id": "3ab7705c-fa86-444b-a926-264ec7c86323",
   "metadata": {},
   "outputs": [
    {
     "data": {
      "text/html": [
       "<p>To authorize access needed by Earth Engine, open the following\n",
       "        URL in a web browser and follow the instructions:</p>\n",
       "        <p><a href=https://code.earthengine.google.com/client-auth?scopes=https%3A//www.googleapis.com/auth/earthengine%20https%3A//www.googleapis.com/auth/devstorage.full_control&request_id=v0aLaIwYFVXdVSsBiqIgNJ3-1qR2KdhE6oAGB8APMSg&tc=R-8whDtynC610ubfXmUI9dRmuX5yrOdchvycFf9pc6A&cc=haQMBHj1cYE1iLrjFbv6ZeYJRcm53azLiLaw0MUSV-4>https://code.earthengine.google.com/client-auth?scopes=https%3A//www.googleapis.com/auth/earthengine%20https%3A//www.googleapis.com/auth/devstorage.full_control&request_id=v0aLaIwYFVXdVSsBiqIgNJ3-1qR2KdhE6oAGB8APMSg&tc=R-8whDtynC610ubfXmUI9dRmuX5yrOdchvycFf9pc6A&cc=haQMBHj1cYE1iLrjFbv6ZeYJRcm53azLiLaw0MUSV-4</a></p>\n",
       "        <p>The authorization workflow will generate a code, which you should paste in the box below.</p>\n",
       "        "
      ],
      "text/plain": [
       "<IPython.core.display.HTML object>"
      ]
     },
     "metadata": {},
     "output_type": "display_data"
    },
    {
     "name": "stdin",
     "output_type": "stream",
     "text": [
      "Enter verification code:  4/1AVMBsJgWACO8UxJXAGkvYQ1PVBQCOBoJerTiCW9E5zZDX3654k11AvQ7rjU\n"
     ]
    },
    {
     "name": "stdout",
     "output_type": "stream",
     "text": [
      "\n",
      "Successfully saved authorization token.\n"
     ]
    }
   ],
   "source": [
    "# Trigger the authentication flow\n",
    "# need to do it when it is first time to run this notebook\n",
    "# will be directed for permission confirmation \n",
    "# and The authorization workflow will generate a code, \n",
    "# which you should paste in the box below.\n",
    "ee.Authenticate()"
   ]
  },
  {
   "cell_type": "code",
   "execution_count": 2,
   "id": "74961838-a897-4779-baa1-d0b1ef02bdd2",
   "metadata": {},
   "outputs": [],
   "source": [
    "# Initialize\n",
    "ee.Initialize()"
   ]
  },
  {
   "cell_type": "code",
   "execution_count": 5,
   "id": "a605715b-ab66-4e06-8cc7-fe251290b3f7",
   "metadata": {},
   "outputs": [],
   "source": [
    "# replace the file path below with yours\n",
    "pa_path = r'../Blue/Calyx_VCS_2250_Maps/Project Area/Calyx_VCS_2250_project.shp'\n",
    "aoi = geemap.shp_to_ee(pa_path)"
   ]
  },
  {
   "cell_type": "code",
   "execution_count": 6,
   "id": "8d27d7b6-6c72-421f-aefd-45d07a949ee7",
   "metadata": {},
   "outputs": [
    {
     "name": "stdout",
     "output_type": "stream",
     "text": [
      "Project area:518025.89 ha\n"
     ]
    }
   ],
   "source": [
    "# calculate its area in ha\n",
    "pa_area = round(aoi.geometry().area(1).getInfo()/10000, 2)\n",
    "print(f'Project area:{pa_area} ha')"
   ]
  },
  {
   "cell_type": "code",
   "execution_count": 7,
   "id": "e611bfbf-fa9f-4bff-99d9-0c66ce1e334b",
   "metadata": {},
   "outputs": [
    {
     "data": {
      "application/vnd.jupyter.widget-view+json": {
       "model_id": "11db6afc83954f0582f42fc42305b52c",
       "version_major": 2,
       "version_minor": 0
      },
      "text/plain": [
       "Map(bottom=14383.0, center=[24.5, 68], controls=(WidgetControl(options=['position', 'transparent_bg'], widget=…"
      ]
     },
     "metadata": {},
     "output_type": "display_data"
    }
   ],
   "source": [
    "# Display project area in google earth engine\n",
    "Map = geemap.Map()\n",
    "Map.addLayer(aoi, {'color': 'blue'}, 'Project Area')\n",
    "Map"
   ]
  },
  {
   "cell_type": "code",
   "execution_count": null,
   "id": "8c39672a-46c7-402e-b030-7e00f0a814b6",
   "metadata": {},
   "outputs": [],
   "source": []
  },
  {
   "cell_type": "markdown",
   "id": "70fec34f-1e70-4e6f-a9c8-93843b2b4788",
   "metadata": {},
   "source": [
    "### Surface water dynamics analysis using GSW dataset"
   ]
  },
  {
   "cell_type": "code",
   "execution_count": 44,
   "id": "12072f01-ae4e-4d5c-a1e9-1cc72c5c0fb4",
   "metadata": {},
   "outputs": [],
   "source": [
    "# load the dataset and clip with project area\n",
    "gsw = ee.Image('JRC/GSW1_4/GlobalSurfaceWater')\n",
    "change_abs = gsw.select('change_abs').clip(aoi)"
   ]
  },
  {
   "cell_type": "code",
   "execution_count": 15,
   "id": "a5dcaecf-a5a3-4044-963a-6499d8cc6022",
   "metadata": {},
   "outputs": [],
   "source": [
    "yearly = ee.ImageCollection('JRC/GSW1_4/YearlyHistory').filterBounds(aoi)\n",
    "\n",
    "def mean_occurrence(start_year, end_year):\n",
    "    filtered = yearly.filter(ee.Filter.calendarRange(start_year, end_year, 'year'))\n",
    "    \n",
    "    def water_mask(img):\n",
    "        return img.select('waterClass').eq(2).rename('water')  # water=1, else=0\n",
    "    \n",
    "    water_masked = filtered.map(water_mask)\n",
    "    mean_img = water_masked.mean().multiply(100).clip(aoi)\n",
    "    return mean_img.rename('occurrence')\n",
    "\n",
    "# Compute mean occurrence for two periods\n",
    "occ_pre = mean_occurrence(1984, 1999)\n",
    "occ_post = mean_occurrence(2000, 2020)\n",
    "\n",
    "# Calculate delta (post - pre)\n",
    "delta_yearly = occ_post.subtract(occ_pre).rename('delta_yearly')"
   ]
  },
  {
   "cell_type": "code",
   "execution_count": 51,
   "id": "ce5c0ef4-5bd3-449f-a8a7-35d9eae14f9f",
   "metadata": {},
   "outputs": [],
   "source": [
    "# Visualization parameters\n",
    "vis_params = {\n",
    "    'min': -50,\n",
    "    'max': 50,\n",
    "    'palette': ['darkred', 'white', 'darkblue']\n",
    "}"
   ]
  },
  {
   "cell_type": "code",
   "execution_count": 15,
   "id": "00c1ba37-5824-4571-aa16-eefef3b54076",
   "metadata": {},
   "outputs": [
    {
     "data": {
      "application/vnd.jupyter.widget-view+json": {
       "model_id": "694611ca95fe406097753f582c6a4446",
       "version_major": 2,
       "version_minor": 0
      },
      "text/plain": [
       "Map(bottom=903574.0, center=[24.19029240477738, 67.46661186218263], controls=(ZoomControl(options=['position',…"
      ]
     },
     "metadata": {},
     "output_type": "display_data"
    }
   ],
   "source": [
    "# Display: create map and add layers side-by-side\n",
    "Map = geemap.Map(center=[24.5, 68], zoom=8)\n",
    "# Add change_abs layer (precomputed)\n",
    "change_abs_layer = geemap.ee_tile_layer(change_abs, vis_params, 'change_abs (JRC)')\n",
    "# Add yearly delta layer (calculated)\n",
    "delta_yearly_layer = geemap.ee_tile_layer(delta_yearly, vis_params, 'YearlyHistory Delta')\n",
    "Map.split_map(change_abs_layer, delta_yearly_layer)\n",
    "Map"
   ]
  },
  {
   "cell_type": "code",
   "execution_count": null,
   "id": "747cae3b-46a7-4495-b7a8-a63ec22618c4",
   "metadata": {},
   "outputs": [],
   "source": []
  },
  {
   "cell_type": "code",
   "execution_count": 16,
   "id": "d3779013-aab4-40b8-8be2-2988cd48862d",
   "metadata": {},
   "outputs": [],
   "source": [
    "# calculate area\n",
    "def get_histogram(image, band_name, aoi, scale=30):\n",
    "    stats = image.reduceRegion(\n",
    "        reducer=ee.Reducer.histogram(maxBuckets=50),\n",
    "        geometry=aoi,\n",
    "        scale=scale,\n",
    "        maxPixels=1e9\n",
    "    ).get(band_name)\n",
    "    return stats.getInfo()"
   ]
  },
  {
   "cell_type": "code",
   "execution_count": 17,
   "id": "b9a3920c-8d56-41c1-b7b0-2a9988b63602",
   "metadata": {},
   "outputs": [],
   "source": [
    "# Get histograms\n",
    "hist_abs = get_histogram(change_abs, 'change_abs', aoi)\n",
    "hist_custom = get_histogram(delta_custom, 'delta', aoi)"
   ]
  },
  {
   "cell_type": "code",
   "execution_count": 18,
   "id": "2442e880-df6b-43d9-8044-cb3e34f35f40",
   "metadata": {},
   "outputs": [
    {
     "data": {
      "image/png": "[encoded data removed]",
      "text/plain": [
       "<Figure size 1400x400 with 2 Axes>"
      ]
     },
     "metadata": {},
     "output_type": "display_data"
    }
   ],
   "source": [
    "# ---------------------------------------\n",
    "# Plot side-by-side histograms\n",
    "# ---------------------------------------\n",
    "fig, axes = plt.subplots(1, 2, figsize=(14, 4), sharey=True)\n",
    "\n",
    "# Left: change_abs\n",
    "axes[0].bar(hist_abs['bucketMeans'], hist_abs['histogram'], width=4, color='steelblue')\n",
    "axes[0].axvline(0, color='black', linestyle='--')\n",
    "axes[0].set_title('JRC change_abs (1984–1999 vs 2000–2020)')\n",
    "axes[0].set_xlabel('Water Occurrence Change (%)')\n",
    "axes[0].set_ylabel('Pixel Count')\n",
    "\n",
    "# Right: delta_custom\n",
    "axes[1].bar(hist_custom['bucketMeans'], hist_custom['histogram'], width=4, color='orange')\n",
    "axes[1].axvline(0, color='black', linestyle='--')\n",
    "axes[1].set_title('MonthlyHistory delta (1990s vs 2010s)')\n",
    "axes[1].set_xlabel('Water Occurrence Change (%)')\n",
    "\n",
    "plt.tight_layout()\n",
    "plt.show()"
   ]
  },
  {
   "cell_type": "code",
   "execution_count": null,
   "id": "b3794a78-b285-4180-8149-3130d8cacdb7",
   "metadata": {},
   "outputs": [],
   "source": []
  },
  {
   "cell_type": "code",
   "execution_count": 46,
   "id": "17606b9c-3791-4a2c-9d34-1f4f94855892",
   "metadata": {},
   "outputs": [],
   "source": [
    "# count water loss and again in project area\n",
    "def count_gain_loss_area(image, band_name, geometry, scale=30):\n",
    "    pixel_area = ee.Image.pixelArea()\n",
    "\n",
    "    gain_mask = image.gt(30)\n",
    "    loss_mask = image.lt(-30)\n",
    "\n",
    "    gain_area_image = pixel_area.updateMask(gain_mask)\n",
    "    loss_area_image = pixel_area.updateMask(loss_mask)\n",
    "\n",
    "    gain_area = gain_area_image.reduceRegion(\n",
    "        reducer=ee.Reducer.sum(),\n",
    "        geometry=geometry,\n",
    "        scale=scale,\n",
    "        maxPixels=1e9\n",
    "    ).get('area')\n",
    "\n",
    "    loss_area = loss_area_image.reduceRegion(\n",
    "        reducer=ee.Reducer.sum(),\n",
    "        geometry=geometry,\n",
    "        scale=scale,\n",
    "        maxPixels=1e9\n",
    "    ).get('area')\n",
    "\n",
    "    # Convert to hectares\n",
    "    gain_ha = ee.Number(gain_area).divide(10000).getInfo() if gain_area else 0\n",
    "    loss_ha = ee.Number(loss_area).divide(10000).getInfo() if loss_area else 0\n",
    "\n",
    "    return gain_ha, loss_ha"
   ]
  },
  {
   "cell_type": "code",
   "execution_count": 47,
   "id": "c7efd1b8-43b1-4501-9680-f8f585bf6ec4",
   "metadata": {},
   "outputs": [
    {
     "name": "stdout",
     "output_type": "stream",
     "text": [
      "Water gain area: 21034.533800292178 hectares\n",
      "Water loss area: 23471.515328520392 hectares\n"
     ]
    }
   ],
   "source": [
    "gain_ha, loss_ha = count_gain_loss_area(change_abs, 'change_abs', aoi)\n",
    "print(f\"Water gain area: {gain_ha} hectares\")\n",
    "print(f\"Water loss area: {loss_ha} hectares\")"
   ]
  },
  {
   "cell_type": "code",
   "execution_count": null,
   "id": "e0bcbaa5-56bc-45a1-8452-a55d14491bb7",
   "metadata": {},
   "outputs": [],
   "source": []
  },
  {
   "cell_type": "markdown",
   "id": "13dcc51e-78c2-4f27-99cd-cb9db5208a1c",
   "metadata": {},
   "source": [
    "### Mangrove coverage dynamics analysis"
   ]
  },
  {
   "cell_type": "code",
   "execution_count": 10,
   "id": "31337004-cf27-4e6d-843e-52a2ff4aa617",
   "metadata": {},
   "outputs": [],
   "source": [
    "# Load extent rasters for 1996 and 2020\n",
    "extent_raster = ee.ImageCollection(\"projects/earthengine-legacy/assets/projects/sat-io/open-datasets/GMW/extent/GMW_V3\")\n",
    "extent_1996 = extent_raster.filterDate('1996-01-01', '1996-12-31').first().clip(aoi)\n",
    "extent_2015 = extent_raster.filterDate('2015-01-01', '2015-12-31').first().clip(aoi)\n",
    "extent_2020 = extent_raster.filterDate('2020-01-01', '2020-12-31').first().clip(aoi)"
   ]
  },
  {
   "cell_type": "code",
   "execution_count": 11,
   "id": "d2b3ea27-fd42-41bc-a30b-115e70074d53",
   "metadata": {},
   "outputs": [
    {
     "name": "stdout",
     "output_type": "stream",
     "text": [
      "Mangrove area in 1996 (ha): 86038.55443609475\n",
      "Mangrove area in 2015 (ha): 72962.5311871273\n",
      "Mangrove area in 2020 (ha): 66127.05670340236\n"
     ]
    }
   ],
   "source": [
    "# Mask non-mangrove pixels (assuming mangrove pixels = 1)\n",
    "mangrove_1996 = extent_1996.eq(1)\n",
    "mangrove_2015 = extent_2015.eq(1)\n",
    "mangrove_2020 = extent_2020.eq(1)\n",
    "\n",
    "# Calculate pixel area in hectares\n",
    "pixel_area_ha = ee.Image.pixelArea().divide(10000)\n",
    "\n",
    "# Multiply masks by pixel area\n",
    "area_img_1996 = pixel_area_ha.updateMask(mangrove_1996)\n",
    "area_img_2015 = pixel_area_ha.updateMask(mangrove_2015)\n",
    "area_img_2020 = pixel_area_ha.updateMask(mangrove_2020)\n",
    "\n",
    "# Reduce to total area\n",
    "area_1996 = area_img_1996.reduceRegion(\n",
    "    reducer=ee.Reducer.sum(),\n",
    "    geometry=aoi,\n",
    "    scale=30,\n",
    "    maxPixels=1e10\n",
    ")\n",
    "\n",
    "area_2015 = area_img_2015.reduceRegion(\n",
    "    reducer=ee.Reducer.sum(),\n",
    "    geometry=aoi,\n",
    "    scale=30,\n",
    "    maxPixels=1e10\n",
    ")\n",
    "\n",
    "area_2020 = area_img_2020.reduceRegion(\n",
    "    reducer=ee.Reducer.sum(),\n",
    "    geometry=aoi,\n",
    "    scale=30,\n",
    "    maxPixels=1e10\n",
    ")\n",
    "\n",
    "# Print the results\n",
    "print(\"Mangrove area in 1996 (ha):\", area_1996.getInfo().get('area'))\n",
    "print(\"Mangrove area in 2015 (ha):\", area_2015.getInfo().get('area'))\n",
    "print(\"Mangrove area in 2020 (ha):\", area_2020.getInfo().get('area'))"
   ]
  },
  {
   "cell_type": "code",
   "execution_count": 12,
   "id": "6105a27b-e51e-47ab-98ff-3d019b3f484c",
   "metadata": {},
   "outputs": [
    {
     "data": {
      "application/vnd.jupyter.widget-view+json": {
       "model_id": "84f991cd557f4048b73777081847ca56",
       "version_major": 2,
       "version_minor": 0
      },
      "text/plain": [
       "Map(center=[24.3, 67.3], controls=(WidgetControl(options=['position', 'transparent_bg'], widget=HBox(children=…"
      ]
     },
     "metadata": {},
     "output_type": "display_data"
    }
   ],
   "source": [
    "# Display\n",
    "Map = geemap.Map(center=[24.3, 67.3], zoom=9)\n",
    "Map.addLayer(ee.Image().paint(aoi, 0, 2), {'palette': 'blue'}, 'AOI')\n",
    "Map.addLayer(mangrove_1996.updateMask(mangrove_1996), {'palette': 'green'}, 'Mangrove 1996')\n",
    "Map.addLayer(mangrove_2015.updateMask(mangrove_2015), {'palette': 'green'}, 'Mangrove 2015')\n",
    "Map.addLayer(mangrove_2020.updateMask(mangrove_2020), {'palette': 'green'}, 'Mangrove 2020')\n",
    "Map"
   ]
  },
  {
   "cell_type": "code",
   "execution_count": null,
   "id": "43c0a92d-9a5f-4ab0-8410-140aa2af50b3",
   "metadata": {},
   "outputs": [],
   "source": []
  },
  {
   "cell_type": "code",
   "execution_count": 60,
   "id": "3d9780d1-b223-4adb-b726-550edbccef2f",
   "metadata": {},
   "outputs": [
    {
     "data": {
      "application/vnd.jupyter.widget-view+json": {
       "model_id": "d796674b6f5a4377abf0a573fac55aac",
       "version_major": 2,
       "version_minor": 0
      },
      "text/plain": [
       "Map(center=[24.1, 67.48], controls=(WidgetControl(options=['position', 'transparent_bg'], widget=HBox(children…"
      ]
     },
     "metadata": {},
     "output_type": "display_data"
    }
   ],
   "source": [
    "# Load mangrove coverage change image (loss = 1, gain = 2)\n",
    "change_image = ee.ImageCollection(\"projects/earthengine-legacy/assets/projects/sat-io/open-datasets/GMW/change/change_f1996\") \\\n",
    "    .sort('system:time_end', False).first().clip(aoi)\n",
    "\n",
    "# Define visualization styles\n",
    "extent_vis = {\"bands\": [\"b1\"], \"min\": 1, \"max\": 1, \"palette\": [\"#228B22\"]}\n",
    "change_vis = {\"bands\": [\"b1\"], \"min\": 1, \"max\": 2, \"palette\": [\"#0000FF\", \"#FF0000\"]}\n",
    "\n",
    "# Create interactive map\n",
    "Map = geemap.Map(center=[24.10, 67.48], zoom=9)\n",
    "\n",
    "# Add layers\n",
    "Map.addLayer(ee.Image().paint(aoi, 0, 2), {'palette': 'blue'}, 'AOI')\n",
    "Map.addLayer(extent_1996, extent_vis, 'Mangrove Extent 1996')\n",
    "Map.addLayer(extent_2020, extent_vis, 'Mangrove Extent 2020')\n",
    "Map.addLayer(change_image, change_vis, 'Mangrove Change 1996–2020 (Loss/ Gain)')\n",
    "\n",
    "# Add legend\n",
    "Map.add_legend(title=\"Mangrove Change\", legend_dict={\n",
    "    \"Loss (1996–2020)\": \"#FF0000\",\n",
    "    \"Gain (1996–2020)\": \"#0000FF\",\n",
    "    \"Extent (1996 or 2020)\": \"#228B22\"\n",
    "})\n",
    "\n",
    "Map"
   ]
  },
  {
   "cell_type": "code",
   "execution_count": 14,
   "id": "8d137fa5-22b1-43ce-a9ef-677c557960e5",
   "metadata": {},
   "outputs": [
    {
     "name": "stdout",
     "output_type": "stream",
     "text": [
      "Mangrove gain area (ha): 2079.7398235802175\n",
      "Mangrove loss area (ha): 21991.237556259577\n"
     ]
    }
   ],
   "source": [
    "# Load GMW change image: 1 = gain, 2 = loss\n",
    "# Each pixel is 30m x 30m = 900 m² = 0.09 ha\n",
    "pixel_area_ha = ee.Image.pixelArea().divide(10000)  # m² to ha\n",
    "\n",
    "# Mask and compute area for gain (value = 1)\n",
    "gain_mask = change_image.eq(1)\n",
    "gain_area = pixel_area_ha.updateMask(gain_mask)\n",
    "\n",
    "# Mask and compute area for loss (value = 2)\n",
    "loss_mask = change_image.eq(2)\n",
    "loss_area = pixel_area_ha.updateMask(loss_mask)\n",
    "\n",
    "# Sum up the areas within AOI\n",
    "gain_stats = gain_area.reduceRegion(\n",
    "    reducer=ee.Reducer.sum(),\n",
    "    geometry=aoi,\n",
    "    scale=30,\n",
    "    maxPixels=1e13\n",
    ")\n",
    "\n",
    "loss_stats = loss_area.reduceRegion(\n",
    "    reducer=ee.Reducer.sum(),\n",
    "    geometry=aoi,\n",
    "    scale=30,\n",
    "    maxPixels=1e13\n",
    ")\n",
    "\n",
    "# Print result\n",
    "print('Mangrove gain area (ha):', gain_stats.getInfo()['area'])\n",
    "print('Mangrove loss area (ha):', loss_stats.getInfo()['area'])"
   ]
  },
  {
   "cell_type": "code",
   "execution_count": null,
   "id": "1fc611dc-cc1b-45e8-8e07-afe08aa48ff1",
   "metadata": {},
   "outputs": [],
   "source": []
  },
  {
   "cell_type": "markdown",
   "id": "c9d5df91-4904-4103-9269-dfcdc73bd645",
   "metadata": {},
   "source": [
    "### Overlap mangrove coverage change and surface water change "
   ]
  },
  {
   "cell_type": "code",
   "execution_count": 17,
   "id": "ff3a8239-5bf8-42af-8161-2ec8489d169b",
   "metadata": {},
   "outputs": [],
   "source": [
    "# Load GMW mangrove change image: 1 = gain, 2 = loss\n",
    "gmw_change = ee.ImageCollection(\n",
    "    \"projects/earthengine-legacy/assets/projects/sat-io/open-datasets/GMW/change/change_f1996\"\n",
    ").sort('system:time_end', False).first().clip(aoi)\n",
    "\n",
    "# Load JRC Surface Water absolute change image (-100 to 100)\n",
    "jrc_change_abs = ee.Image('JRC/GSW1_4/GlobalSurfaceWater').select('change_abs').clip(aoi)\n",
    "\n",
    "# Define water gain/loss masks using ±30% threshold\n",
    "water_gain = jrc_change_abs.gt(30)\n",
    "water_loss = jrc_change_abs.lt(-30)\n",
    "\n",
    "# Mangrove gain/loss masks\n",
    "mangrove_gain = gmw_change.eq(1)\n",
    "mangrove_loss = gmw_change.eq(2)"
   ]
  },
  {
   "cell_type": "code",
   "execution_count": 68,
   "id": "e4139ab3-4557-4ea4-8af2-ef3366bb3af1",
   "metadata": {},
   "outputs": [
    {
     "data": {
      "application/vnd.jupyter.widget-view+json": {
       "model_id": "ff64eb09e2a642b8bf6424c5fbe4e3a3",
       "version_major": 2,
       "version_minor": 0
      },
      "text/plain": [
       "Map(center=[24.3, 67.3], controls=(WidgetControl(options=['position', 'transparent_bg'], widget=HBox(children=…"
      ]
     },
     "metadata": {},
     "output_type": "display_data"
    }
   ],
   "source": [
    "# Visualization\n",
    "Map = geemap.Map(center=[24.3, 67.3], zoom=9)\n",
    "Map.addLayer(ee.Image().paint(aoi, 0, 2), {'palette': 'blue'}, 'AOI')\n",
    "Map.addLayer(water_gain.updateMask(water_gain), {'palette': 'cyan'}, 'Water Gain (>30%)')\n",
    "Map.addLayer(water_loss.updateMask(water_loss), {'palette': 'red'}, 'Water Loss (<-30%)')\n",
    "Map.addLayer(mangrove_gain.updateMask(mangrove_gain), {'palette': 'green'}, 'Mangrove Gain')\n",
    "Map.addLayer(mangrove_loss.updateMask(mangrove_loss), {'palette': 'orange'}, 'Mangrove Loss')\n",
    "# Map.addLayer(overlap_gain.updateMask(overlap_gain), {'palette': 'green'}, 'Overlap: Water Gain + Mangrove Gain')\n",
    "# Map.addLayer(overlap_loss.updateMask(overlap_loss), {'palette': 'black'}, 'Overlap: Water Loss + Mangrove Loss')\n",
    "\n",
    "Map.add_legend(\n",
    "    title=\"Change Overlap\",\n",
    "    legend_dict={\n",
    "        \"Water Gain (>30%)\": \"#00FFFF\",     # Cyan\n",
    "        \"Water Loss (<-30%)\": \"#FF0000\",    # Red\n",
    "        \"Mangrove Gain\": \"#008000\",         # Green\n",
    "        \"Mangrove Loss\": \"#FFA500\"          # Orange\n",
    "    }\n",
    ")\n",
    "Map"
   ]
  },
  {
   "cell_type": "code",
   "execution_count": null,
   "id": "22500ef4-07df-4c95-9e66-491302c34903",
   "metadata": {},
   "outputs": [],
   "source": []
  },
  {
   "cell_type": "code",
   "execution_count": 50,
   "id": "4961e84b-57a1-4b24-92f3-a9b020a63945",
   "metadata": {},
   "outputs": [
    {
     "name": "stdout",
     "output_type": "stream",
     "text": [
      "Area (ha) where Water Gain & Mangrove Loss: 1780.5309261936845\n",
      "Area (ha) where Water Loss & Mangrove Gain: 853.7632377513023\n",
      "Area (ha) where Water Gain & Mangrove Gain: 6.9545439514160154\n",
      "Area (ha) where Water Loss & Mangrove Loss: 1234.266875092112\n"
     ]
    }
   ],
   "source": [
    "# calculation \n",
    "jrc = ee.Image('JRC/GSW1_4/GlobalSurfaceWater').select('change_abs').clip(aoi)\n",
    "\n",
    "# Threshold water gain and loss:\n",
    "# Per doc, change_abs < 0 means water loss, > 0 means water gain, 0 no change\n",
    "water_gain = jrc.gt(30).rename('water_gain')    # 1 if gain, 0 else\n",
    "water_loss = jrc.lt(-30).rename('water_loss')    # 1 if loss, 0 else\n",
    "\n",
    "# Load GMW mangrove change raster 1996-2020 (1 = gain, 2 = loss)\n",
    "# You may need to replace this with your specific mangrove change dataset path\n",
    "mangrove_change = ee.ImageCollection('projects/earthengine-legacy/assets/projects/sat-io/open-datasets/GMW/change/change_f1996').sort('system:time_end', False).first().clip(aoi)\n",
    "\n",
    "# Create masks for mangrove gain and loss\n",
    "mangrove_gain = mangrove_change.eq(1).rename('mangrove_gain')\n",
    "mangrove_loss = mangrove_change.eq(2).rename('mangrove_loss')\n",
    "\n",
    "# Combine layers to get all combinations (0/1 masks)\n",
    "combined = water_gain.addBands([water_loss, mangrove_gain, mangrove_loss])\n",
    "\n",
    "# Define pixel area in hectares (1 hectare = 10,000 m²)\n",
    "pixel_area_ha = ee.Image.pixelArea().divide(10000)\n",
    "\n",
    "# Define functions to calculate area for each combination\n",
    "def calc_area(mask_condition):\n",
    "    masked_area_image = pixel_area_ha.updateMask(mask_condition)\n",
    "    stats = masked_area_image.reduceRegion(\n",
    "        reducer=ee.Reducer.sum(),\n",
    "        geometry=aoi,\n",
    "        scale=30,\n",
    "        maxPixels=1e10\n",
    "    )\n",
    "    return stats.get('area').getInfo()\n",
    "\n",
    "# Conditions:\n",
    "# 1. Water Gain & Mangrove Loss\n",
    "cond1 = combined.select('water_gain').eq(1).And(combined.select('mangrove_loss').eq(1))\n",
    "area1 = calc_area(cond1)\n",
    "\n",
    "# 2. Water Loss & Mangrove Gain\n",
    "cond2 = combined.select('water_loss').eq(1).And(combined.select('mangrove_gain').eq(1))\n",
    "area2 = calc_area(cond2)\n",
    "\n",
    "# 3. Water Gain & Mangrove Gain\n",
    "cond3 = combined.select('water_gain').eq(1).And(combined.select('mangrove_gain').eq(1))\n",
    "area3 = calc_area(cond3)\n",
    "\n",
    "# 4. Water Loss & Mangrove Loss\n",
    "cond4 = combined.select('water_loss').eq(1).And(combined.select('mangrove_loss').eq(1))\n",
    "area4 = calc_area(cond4)\n",
    "\n",
    "print(\"Area (ha) where Water Gain & Mangrove Loss:\", area1)\n",
    "print(\"Area (ha) where Water Loss & Mangrove Gain:\", area2)\n",
    "print(\"Area (ha) where Water Gain & Mangrove Gain:\", area3)\n",
    "print(\"Area (ha) where Water Loss & Mangrove Loss:\", area4)"
   ]
  },
  {
   "cell_type": "code",
   "execution_count": 30,
   "id": "0b36403b-7354-4c5b-9baa-c626379f8ead",
   "metadata": {},
   "outputs": [
    {
     "data": {
      "application/vnd.jupyter.widget-view+json": {
       "model_id": "10ba3f319d4b43fca622b1e6bd607be7",
       "version_major": 2,
       "version_minor": 0
      },
      "text/plain": [
       "Map(center=[24.5, 67], controls=(WidgetControl(options=['position', 'transparent_bg'], widget=HBox(children=(T…"
      ]
     },
     "metadata": {},
     "output_type": "display_data"
    }
   ],
   "source": [
    "# Visualization with geemap (optional)\n",
    "Map = geemap.Map(center=[24.5, 67], zoom=8)\n",
    "Map.addLayer(aoi, {}, 'Region', False)\n",
    "Map.addLayer(water_gain.updateMask(water_gain), {'palette': 'blue'}, 'Water Gain')\n",
    "Map.addLayer(water_loss.updateMask(water_loss), {'palette': 'red'}, 'Water Loss')\n",
    "Map.addLayer(mangrove_gain.updateMask(mangrove_gain), {'palette': 'green'}, 'Mangrove Gain')\n",
    "Map.addLayer(mangrove_loss.updateMask(mangrove_loss), {'palette': 'orange'}, 'Mangrove Loss')\n",
    "Map"
   ]
  },
  {
   "cell_type": "code",
   "execution_count": null,
   "id": "22d5db60-d011-40fc-8b9c-9a99dd533ff9",
   "metadata": {},
   "outputs": [],
   "source": []
  },
  {
   "cell_type": "markdown",
   "id": "943fad55-910c-456b-b1ff-2092316606b8",
   "metadata": {},
   "source": [
    "### Vegetation NDVI change analysis in project area"
   ]
  },
  {
   "cell_type": "code",
   "execution_count": 28,
   "id": "7a598395-ac19-4ddb-9888-f24852d58d93",
   "metadata": {},
   "outputs": [],
   "source": [
    "gmw_core_vector = ee.FeatureCollection(\"projects/earthengine-legacy/assets/projects/sat-io/open-datasets/GMW/core/gmw_v3_core_vec\")\n",
    "core = gmw_core_vector.filterBounds(aoi)\n",
    "\n",
    "# Cloud mask and NDVI functions as before\n",
    "def maskL457sr(image):\n",
    "    qa = image.select('QA_PIXEL')\n",
    "    cloudShadowBitMask = 1 << 3\n",
    "    cloudsBitMask = 1 << 5\n",
    "    mask = qa.bitwiseAnd(cloudShadowBitMask).eq(0).And(\n",
    "        qa.bitwiseAnd(cloudsBitMask).eq(0))\n",
    "    return image.updateMask(mask).copyProperties(image, [\"system:time_start\"])\n",
    "\n",
    "def maskL8sr(image):\n",
    "    qa = image.select('QA_PIXEL')\n",
    "    cloudShadowBitMask = 1 << 3\n",
    "    cloudsBitMask = 1 << 5\n",
    "    mask = qa.bitwiseAnd(cloudShadowBitMask).eq(0).And(\n",
    "        qa.bitwiseAnd(cloudsBitMask).eq(0))\n",
    "    return image.updateMask(mask).copyProperties(image, [\"system:time_start\"])\n",
    "\n",
    "def addNDVI_L57(image):\n",
    "    ndvi = image.normalizedDifference(['SR_B4', 'SR_B3']).rename('NDVI')\n",
    "    return image.addBands(ndvi)\n",
    "\n",
    "def addNDVI_L8(image):\n",
    "    ndvi = image.normalizedDifference(['SR_B5', 'SR_B4']).rename('NDVI')\n",
    "    return image.addBands(ndvi)\n",
    "\n",
    "# Load Landsat collections, filter Aug only, cloud mask and add NDVI\n",
    "landsat57 = (ee.ImageCollection('LANDSAT/LT05/C02/T1_L2')\n",
    "             .merge(ee.ImageCollection('LANDSAT/LE07/C02/T1_L2'))\n",
    "             .filterDate('1990-01-01', '2013-05-31')\n",
    "             .filter(ee.Filter.calendarRange(5, 9, 'month'))\n",
    "             .map(maskL457sr)\n",
    "             .map(addNDVI_L57)\n",
    "             .filterBounds(aoi))\n",
    "\n",
    "landsat8 = (ee.ImageCollection('LANDSAT/LC08/C02/T1_L2')\n",
    "            .filterDate('2013-06-01', '2023-12-31')\n",
    "            .filter(ee.Filter.calendarRange(5, 9, 'month'))\n",
    "            .map(maskL8sr)\n",
    "            .map(addNDVI_L8)\n",
    "            .filterBounds(aoi))\n",
    "\n",
    "all_landsat = landsat57.merge(landsat8)\n",
    "\n",
    "# Get list of years in the period\n",
    "years = ee.List.sequence(1990, 2023)\n",
    "\n",
    "# Function to compute annual median NDVI for each year\n",
    "def annual_ndvi(year):\n",
    "    start = ee.Date.fromYMD(year, 5, 1)\n",
    "    end = ee.Date.fromYMD(year, 9, 30)\n",
    "    annualCollection = all_landsat.filterDate(start, end)\n",
    "    annualNDVI = annualCollection.select('NDVI').median().clip(aoi)\n",
    "    return annualNDVI.set('year', year)\n",
    "\n",
    "annual_ndvi_collection = ee.ImageCollection(years.map(annual_ndvi))\n",
    "\n",
    "def reduce_to_mean(image):\n",
    "    mean_dict = image.reduceRegion(\n",
    "        reducer=ee.Reducer.mean(),\n",
    "        geometry=core,\n",
    "        scale=30,\n",
    "        maxPixels=1e13\n",
    "    )\n",
    "    return ee.Feature(None, {'year': image.get('year'), 'mean_ndvi': mean_dict.get('NDVI')})\n",
    "\n",
    "ndvi_features = annual_ndvi_collection.map(reduce_to_mean)\n",
    "\n",
    "ndvi_dict = ndvi_features.aggregate_array('year').getInfo()\n",
    "mean_ndvi = ndvi_features.aggregate_array('mean_ndvi').getInfo()\n",
    "\n",
    "# Create DataFrame\n",
    "df = pd.DataFrame({'Year': ndvi_dict, 'Mean NDVI': mean_ndvi})\n",
    "df = df.sort_values('Year')\n",
    "\n",
    "# Plot\n",
    "plt.figure(figsize=(12,6))\n",
    "plt.bar(df['Year'], df['Mean NDVI'], color='#228B22')\n",
    "plt.xlabel('Year')\n",
    "plt.ylabel('Mean NDVI')\n",
    "plt.title('Annual Mean NDVI in Core Mangrove Area (1990–2023)')\n",
    "plt.grid(axis='y', linestyle='--', alpha=0.7)\n",
    "plt.tight_layout()\n",
    "# plt.savefig('Annual_Mean_NDVI_Core_Mangrove_Area.jpeg')\n",
    "plt.show()"
   ]
  },
  {
   "cell_type": "code",
   "execution_count": null,
   "id": "6bcc8417-e935-4bf3-a9d8-a338c288a3ce",
   "metadata": {},
   "outputs": [],
   "source": []
  },
  {
   "cell_type": "code",
   "execution_count": 26,
   "id": "ce111689-3550-468b-8c63-1324bbb04e1f",
   "metadata": {},
   "outputs": [
    {
     "data": {
      "application/vnd.jupyter.widget-view+json": {
       "model_id": "f2e845ec2be14b04bc88d86ad9f2ad6e",
       "version_major": 2,
       "version_minor": 0
      },
      "text/plain": [
       "Map(center=[24.5, 67.5], controls=(WidgetControl(options=['position', 'transparent_bg'], widget=HBox(children=…"
      ]
     },
     "metadata": {},
     "output_type": "display_data"
    }
   ],
   "source": [
    "# For example: visualize the NDVI for 2000\n",
    "ndvi_1996 = annual_ndvi_collection.filterMetadata('year', 'equals', 1996).first()\n",
    "ndvi_2000 = annual_ndvi_collection.filterMetadata('year', 'equals', 2000).first()\n",
    "ndvi_2020 = annual_ndvi_collection.filterMetadata('year', 'equals', 2020).first()\n",
    "# Visualization parameters for NDVI\n",
    "ndvi_vis = {'min': 0, 'max': 1, 'palette': ['white', 'green']}\n",
    "\n",
    "# Create a map and add the NDVI 2000 layer\n",
    "Map = geemap.Map(center=[24.5, 67.5], zoom=8)\n",
    "Map.addLayer(ndvi_1996, ndvi_vis, 'NDVI 1996')\n",
    "Map.addLayer(ndvi_2000, ndvi_vis, 'NDVI 2000')\n",
    "Map.addLayer(ndvi_2020, ndvi_vis, 'NDVI 2020')\n",
    "Map.addLayer(ee.Image().paint(aoi, 0, 2), {'palette': 'red'}, 'AOI')\n",
    "Map"
   ]
  },
  {
   "cell_type": "code",
   "execution_count": null,
   "id": "2d834a87-733e-48d1-a14a-0f8ddbdf3fff",
   "metadata": {},
   "outputs": [],
   "source": []
  },
  {
   "cell_type": "code",
   "execution_count": 11,
   "id": "cabfe679-8909-42b6-bb3a-99bd146e42bb",
   "metadata": {},
   "outputs": [],
   "source": [
    "gmw_core = ee.Image(\"projects/earthengine-legacy/assets/projects/sat-io/open-datasets/GMW/core/gmw_v3_mng_core\").clip(aoi)"
   ]
  },
  {
   "cell_type": "code",
   "execution_count": null,
   "id": "c623f098-ce52-4bf4-9697-758094578d39",
   "metadata": {},
   "outputs": [],
   "source": [
    "# Mask NDVI by GMW core mangrove extent\n",
    "ndvi_core_1996 = ndvi_1996.updateMask(gmw_core)\n",
    "ndvi_core_2020 = ndvi_2020.updateMask(gmw_core)\n",
    "\n",
    "# Calculate mean NDVI over core mangroves\n",
    "def mean_ndvi(image, year):\n",
    "    stats = image.reduceRegion(\n",
    "        reducer=ee.Reducer.mean(),\n",
    "        geometry=aoi,\n",
    "        scale=30,\n",
    "        maxPixels=1e10\n",
    "    )\n",
    "    return f\"{year} mean NDVI in core mangroves: {stats.get('NDVI').getInfo():.4f}\"\n",
    "\n",
    "print(mean_ndvi(ndvi_core_1996, 1996))\n",
    "print(mean_ndvi(ndvi_core_2020, 2020))"
   ]
  },
  {
   "cell_type": "code",
   "execution_count": 67,
   "id": "a8f5c8c4-33b9-4cc7-a779-ed3dc304dba4",
   "metadata": {},
   "outputs": [
    {
     "data": {
      "application/vnd.jupyter.widget-view+json": {
       "model_id": "f831330f802540dc872f3ea0b18a7b27",
       "version_major": 2,
       "version_minor": 0
      },
      "text/plain": [
       "Map(center=[24.5, 67], controls=(WidgetControl(options=['position', 'transparent_bg'], widget=HBox(children=(T…"
      ]
     },
     "metadata": {},
     "output_type": "display_data"
    }
   ],
   "source": [
    "# Visualize\n",
    "Map = geemap.Map(center=[24.5, 67], zoom=8)\n",
    "Map.addLayer(ee.Image().paint(aoi, 0, 2), {'palette': 'blue'}, 'AOI')\n",
    "Map.addLayer(ndvi_core_1996, {'min': 0, 'max': 0.8, 'palette': ['white', 'green']}, 'NDVI 1996 (core)')\n",
    "Map.addLayer(ndvi_core_2020, {'min': 0, 'max': 0.8, 'palette': ['white', 'darkgreen']}, 'NDVI 2020 (core)')\n",
    "Map.addLayer(gmw_core, {'min': 1, 'max': 1, 'palette': ['yellow']}, 'GMW Core')\n",
    "Map"
   ]
  },
  {
   "cell_type": "code",
   "execution_count": null,
   "id": "85a8fd3a-6f5c-41af-9cca-29eb59f680c3",
   "metadata": {},
   "outputs": [],
   "source": []
  },
  {
   "cell_type": "code",
   "execution_count": null,
   "id": "d81bfdad-8b64-46dc-86e1-0beecce6f10e",
   "metadata": {},
   "outputs": [],
   "source": []
  },
  {
   "cell_type": "code",
   "execution_count": null,
   "id": "0ac17ea7-bc99-4e3a-8881-6c0b7f0c19bf",
   "metadata": {},
   "outputs": [],
   "source": []
  }
 ],
 "metadata": {
  "kernelspec": {
   "display_name": "Python 3 (ipykernel)",
   "language": "python",
   "name": "python3"
  },
  "language_info": {
   "codemirror_mode": {
    "name": "ipython",
    "version": 3
   },
   "file_extension": ".py",
   "mimetype": "text/x-python",
   "name": "python",
   "nbconvert_exporter": "python",
   "pygments_lexer": "ipython3",
   "version": "3.10.6"
  }
 },
 "nbformat": 4,
 "nbformat_minor": 5
}

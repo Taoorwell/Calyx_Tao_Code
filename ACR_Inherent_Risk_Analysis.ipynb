{
 "cells": [
  {
   "cell_type": "markdown",
   "id": "3728680e-8f20-4bf0-8594-5bc5a45811ab",
   "metadata": {},
   "source": [
    "# ACR Inherent Risk Analysis Tool"
   ]
  },
  {
   "cell_type": "code",
   "execution_count": 1,
   "id": "f608c774-9f1b-495c-8854-9e02af6b603e",
   "metadata": {
    "tags": []
   },
   "outputs": [],
   "source": [
    "# load geemap and other packages\n",
    "import os\n",
    "import ee\n",
    "import geemap\n",
    "from glob import glob\n",
    "import pandas as pd\n",
    "import numpy as np\n",
    "import geopandas as gpd\n",
    "from matplotlib import pyplot as plt\n",
    "import math"
   ]
  },
  {
   "cell_type": "code",
   "execution_count": 2,
   "id": "e8f2e15a-46b3-49ef-a9c8-1fc7c3a4728d",
   "metadata": {},
   "outputs": [
    {
     "data": {
      "text/html": [
       "<p>To authorize access needed by Earth Engine, open the following\n",
       "        URL in a web browser and follow the instructions:</p>\n",
       "        <p><a href=https://code.earthengine.google.com/client-auth?scopes=https%3A//www.googleapis.com/auth/earthengine%20https%3A//www.googleapis.com/auth/devstorage.full_control&request_id=HtuxQM0IEKFuf4Vx4bAuPS5bjvxTlCfJX2yBnC_pljo&tc=Y8rDLq6mOZgbPBxE6dT4x9YH_zFX2VYG2XWieaTVZb4&cc=gMRdaTZoKRAWPtdCP2CzIUKHc02BqYQLIrlsekimuVo>https://code.earthengine.google.com/client-auth?scopes=https%3A//www.googleapis.com/auth/earthengine%20https%3A//www.googleapis.com/auth/devstorage.full_control&request_id=HtuxQM0IEKFuf4Vx4bAuPS5bjvxTlCfJX2yBnC_pljo&tc=Y8rDLq6mOZgbPBxE6dT4x9YH_zFX2VYG2XWieaTVZb4&cc=gMRdaTZoKRAWPtdCP2CzIUKHc02BqYQLIrlsekimuVo</a></p>\n",
       "        <p>The authorization workflow will generate a code, which you should paste in the box below.</p>\n",
       "        "
      ],
      "text/plain": [
       "<IPython.core.display.HTML object>"
      ]
     },
     "metadata": {},
     "output_type": "display_data"
    },
    {
     "name": "stdin",
     "output_type": "stream",
     "text": [
      "Enter verification code:  4/1AVMBsJgwT_lJjB-VNt7U-jhtfP2hbjqVGorBkrSbXew6TcY_osv5nZ-fYSI\n"
     ]
    },
    {
     "name": "stdout",
     "output_type": "stream",
     "text": [
      "\n",
      "Successfully saved authorization token.\n"
     ]
    }
   ],
   "source": [
    "# Trigger the authentication flow\n",
    "# need to do it when it is first time to run this notebook\n",
    "# will be directed for permission confirmation \n",
    "# and The authorization workflow will generate a code, \n",
    "# which you should paste in the box below.\n",
    "ee.Authenticate()"
   ]
  },
  {
   "cell_type": "code",
   "execution_count": 3,
   "id": "4ecd45b2-3ea3-4f4e-9a8e-bbc65e37abd5",
   "metadata": {},
   "outputs": [],
   "source": [
    "ee.Initialize()"
   ]
  },
  {
   "cell_type": "code",
   "execution_count": null,
   "id": "f73b14bf-f284-4c38-a662-11000b0d6fc5",
   "metadata": {},
   "outputs": [],
   "source": []
  },
  {
   "cell_type": "code",
   "execution_count": 14,
   "id": "b038bee8-75d0-4f54-b06b-8443df61f3b2",
   "metadata": {},
   "outputs": [
    {
     "name": "stdout",
     "output_type": "stream",
     "text": [
      "Projects/ACR/638/638_wgs84_p_1ha.shp\n"
     ]
    },
    {
     "name": "stderr",
     "output_type": "stream",
     "text": [
      "Possible issue encountered when converting Shape #0 to GeoJSON: Shapefile format requires that all polygon interior holes be contained by an exterior ring, but the Shape contained interior holes (defined by counter-clockwise orientation in the shapefile format) that were orphaned, i.e. not contained by any exterior rings. The rings were still included but were encoded as GeoJSON exterior rings instead of holes.\n"
     ]
    }
   ],
   "source": [
    "# direct to project area shapefile\n",
    "# replace file location and name as you want below\n",
    "project_area_path = r'Projects/ACR/638/638_wgs84_p_1ha.shp'"
   ]
  },
  {
   "cell_type": "code",
   "execution_count": 11,
   "id": "d59dacf2-3c34-4b8f-ae71-7b577359c9ff",
   "metadata": {},
   "outputs": [
    {
     "name": "stdout",
     "output_type": "stream",
     "text": [
      "Projects/ACR/378/378_wgs84_p_1ha.shp\n",
      "787.56  ha\n",
      "1945.2732 acre\n"
     ]
    }
   ],
   "source": [
    "# upload it to google earth engine\n",
    "# calculate its project area in ha and acre\n",
    "pa = geemap.shp_to_ee(project_area_path)\n",
    "pa_area = round(pa.geometry().area(1).getInfo()/10000, 2)\n",
    "print(pa_area, ' ha')\n",
    "print(pa_area * 2.47, 'acre')"
   ]
  },
  {
   "cell_type": "code",
   "execution_count": null,
   "id": "a972e8d6-d81f-4951-90e6-7d90c251e46c",
   "metadata": {},
   "outputs": [],
   "source": []
  },
  {
   "cell_type": "code",
   "execution_count": 6,
   "id": "3f781e67-a861-496e-8154-3ee7d0d6449f",
   "metadata": {},
   "outputs": [],
   "source": [
    "# Display project area in google earth engine\n",
    "Map = geemap.Map()\n",
    "Map.centerObject(pa, 12)\n",
    "Map.addLayer(pa, {'color': 'red'}, 'Project Area')\n",
    "Map"
   ]
  },
  {
   "cell_type": "code",
   "execution_count": null,
   "id": "8ba02a4a-b0ff-400a-9364-2fd359cb9d59",
   "metadata": {},
   "outputs": [],
   "source": []
  },
  {
   "cell_type": "markdown",
   "id": "be3b7703-612f-4f2e-8b81-8b1a580163b1",
   "metadata": {},
   "source": [
    "### Global Forest Change Dataset for piror logging check"
   ]
  },
  {
   "cell_type": "code",
   "execution_count": 7,
   "id": "50c03fa7-3230-4adb-a3b1-ba9805da013a",
   "metadata": {},
   "outputs": [],
   "source": [
    "# load avaliable dataset for analysis\n",
    "# Global Forest Watch or others for piror logging check\n",
    "gfc = ee.Image(r'UMD/hansen/global_forest_change_2023_v1_11')\n",
    "\n",
    "# tree cover 2000\n",
    "gfc_treecover_2000 = gfc.select(['treecover2000'])\n",
    "\n",
    "# tree loss \n",
    "gfc_loss_image = gfc.select(['loss'])\n",
    "\n",
    "# tree loss year (range from 1 to 21), base year is 2000.\n",
    "gfc_loss_year = gfc.select(['lossyear'])"
   ]
  },
  {
   "cell_type": "code",
   "execution_count": 24,
   "id": "89f505aa-49b8-48a5-9a3d-8a63811786e9",
   "metadata": {},
   "outputs": [],
   "source": [
    "# Display project area and GFC dataset\n",
    "Map = geemap.Map()\n",
    "\n",
    "# check the tree loss before project start date\n",
    "Map.addLayer(gfc_loss_year.updateMask(gfc_loss_year.lte(20)),\n",
    "            {'min': 0,\n",
    "            'max': 20,\n",
    "            'palette': ['yellow', 'red']},\n",
    "            'Tree loss before 2020')\n",
    "\n",
    "Map.centerObject(pa, 12)\n",
    "Map.addLayer(pa, {'color': 'red'}, 'Project Area')\n",
    "Map"
   ]
  },
  {
   "cell_type": "code",
   "execution_count": 9,
   "id": "8be40ef6-57ac-4858-9a8f-b511681d7d11",
   "metadata": {},
   "outputs": [],
   "source": [
    "# a function to get annual deforestation (in ha) within project area using GFC dataset\n",
    "def get_annual_loss(loss_image, loss_year, region):\n",
    "    loss_area = loss_image.multiply(ee.Image.pixelArea())\n",
    "    loss_area_year = loss_area.addBands(loss_year).reduceRegion(\n",
    "        **{'reducer': ee.Reducer.sum().group(**{'groupField': 1}),\n",
    "           'geometry': region,\n",
    "           'scale': 30,\n",
    "           'bestEffort': True,\n",
    "           'maxPixels': 1e9})\n",
    "    loss_area_year = loss_area_year.getInfo()['groups']\n",
    "    years, annual_deforestation = [], []\n",
    "    for g in loss_area_year:\n",
    "        years.append(g['group'])\n",
    "        annual_deforestation.append(g['sum']/10000)    \n",
    "    return years, annual_deforestation"
   ]
  },
  {
   "cell_type": "code",
   "execution_count": 10,
   "id": "536aa398-bd20-453f-8627-dc3ceca866ca",
   "metadata": {},
   "outputs": [],
   "source": [
    "pa_years_def_gfc, pa_annual_deforestation_gfc = get_annual_loss(gfc_loss_image, \n",
    "                                                                gfc_loss_year, \n",
    "                                                                pa)"
   ]
  },
  {
   "cell_type": "code",
   "execution_count": 11,
   "id": "ed6df6e1-1a11-4292-bf72-06bf68b7c747",
   "metadata": {},
   "outputs": [],
   "source": [
    "df_gfc = pd.DataFrame({'Def_PA': pa_annual_deforestation_gfc}, index=[d+2000 for d in pa_years_def_gfc])"
   ]
  },
  {
   "cell_type": "code",
   "execution_count": 12,
   "id": "473304fb-3f01-4cec-a152-01ad551b1ffc",
   "metadata": {
    "tags": []
   },
   "outputs": [
    {
     "data": {
      "text/html": [
       "<div>\n",
       "<style scoped>\n",
       "    .dataframe tbody tr th:only-of-type {\n",
       "        vertical-align: middle;\n",
       "    }\n",
       "\n",
       "    .dataframe tbody tr th {\n",
       "        vertical-align: top;\n",
       "    }\n",
       "\n",
       "    .dataframe thead th {\n",
       "        text-align: right;\n",
       "    }\n",
       "</style>\n",
       "<table border=\"1\" class=\"dataframe\">\n",
       "  <thead>\n",
       "    <tr style=\"text-align: right;\">\n",
       "      <th></th>\n",
       "      <th>Def_PA</th>\n",
       "      <th>Def_PA_rate (%)</th>\n",
       "    </tr>\n",
       "  </thead>\n",
       "  <tbody>\n",
       "    <tr>\n",
       "      <th>2001</th>\n",
       "      <td>0.230372</td>\n",
       "      <td>0.006998</td>\n",
       "    </tr>\n",
       "    <tr>\n",
       "      <th>2002</th>\n",
       "      <td>0.250149</td>\n",
       "      <td>0.007599</td>\n",
       "    </tr>\n",
       "    <tr>\n",
       "      <th>2004</th>\n",
       "      <td>1.063410</td>\n",
       "      <td>0.032303</td>\n",
       "    </tr>\n",
       "    <tr>\n",
       "      <th>2006</th>\n",
       "      <td>1.463215</td>\n",
       "      <td>0.044447</td>\n",
       "    </tr>\n",
       "    <tr>\n",
       "      <th>2007</th>\n",
       "      <td>0.371506</td>\n",
       "      <td>0.011285</td>\n",
       "    </tr>\n",
       "    <tr>\n",
       "      <th>2008</th>\n",
       "      <td>0.745012</td>\n",
       "      <td>0.022631</td>\n",
       "    </tr>\n",
       "    <tr>\n",
       "      <th>2009</th>\n",
       "      <td>0.175404</td>\n",
       "      <td>0.005328</td>\n",
       "    </tr>\n",
       "    <tr>\n",
       "      <th>2010</th>\n",
       "      <td>0.840953</td>\n",
       "      <td>0.025545</td>\n",
       "    </tr>\n",
       "    <tr>\n",
       "      <th>2011</th>\n",
       "      <td>0.270145</td>\n",
       "      <td>0.008206</td>\n",
       "    </tr>\n",
       "    <tr>\n",
       "      <th>2014</th>\n",
       "      <td>0.962038</td>\n",
       "      <td>0.029223</td>\n",
       "    </tr>\n",
       "    <tr>\n",
       "      <th>2016</th>\n",
       "      <td>0.732635</td>\n",
       "      <td>0.022255</td>\n",
       "    </tr>\n",
       "    <tr>\n",
       "      <th>2018</th>\n",
       "      <td>0.270144</td>\n",
       "      <td>0.008206</td>\n",
       "    </tr>\n",
       "    <tr>\n",
       "      <th>2019</th>\n",
       "      <td>0.540445</td>\n",
       "      <td>0.016417</td>\n",
       "    </tr>\n",
       "    <tr>\n",
       "      <th>2021</th>\n",
       "      <td>0.048480</td>\n",
       "      <td>0.001473</td>\n",
       "    </tr>\n",
       "    <tr>\n",
       "      <th>2022</th>\n",
       "      <td>0.095640</td>\n",
       "      <td>0.002905</td>\n",
       "    </tr>\n",
       "  </tbody>\n",
       "</table>\n",
       "</div>"
      ],
      "text/plain": [
       "        Def_PA  Def_PA_rate (%)\n",
       "2001  0.230372         0.006998\n",
       "2002  0.250149         0.007599\n",
       "2004  1.063410         0.032303\n",
       "2006  1.463215         0.044447\n",
       "2007  0.371506         0.011285\n",
       "2008  0.745012         0.022631\n",
       "2009  0.175404         0.005328\n",
       "2010  0.840953         0.025545\n",
       "2011  0.270145         0.008206\n",
       "2014  0.962038         0.029223\n",
       "2016  0.732635         0.022255\n",
       "2018  0.270144         0.008206\n",
       "2019  0.540445         0.016417\n",
       "2021  0.048480         0.001473\n",
       "2022  0.095640         0.002905"
      ]
     },
     "execution_count": 12,
     "metadata": {},
     "output_type": "execute_result"
    }
   ],
   "source": [
    "df_gfc['Def_PA_rate (%)'] = df_gfc['Def_PA'] * 100 / pa_area\n",
    "df_gfc"
   ]
  },
  {
   "cell_type": "code",
   "execution_count": null,
   "id": "a9193b13-2da7-4e00-bf49-0c9e62e3e814",
   "metadata": {},
   "outputs": [],
   "source": []
  },
  {
   "cell_type": "markdown",
   "id": "201b0216-7cfa-44f0-81ee-e61209f6edb8",
   "metadata": {},
   "source": [
    "### Digital elevation model (DEM) for forever unsuitable harvest analysis"
   ]
  },
  {
   "cell_type": "code",
   "execution_count": 38,
   "id": "3e0f1f5c-8d77-4fc5-b6a1-7ec81054cd88",
   "metadata": {},
   "outputs": [],
   "source": [
    "# Display add DEM on project area\n",
    "Map = geemap.Map()\n",
    "\n",
    "dataset = ee.Image('USGS/3DEP/10m').clip(pa)\n",
    "elevation = dataset.select('elevation')\n",
    "slope = ee.Terrain.slope(elevation)\n",
    "\n",
    "Map.addLayer(elevation, {'min': 0, 'max': 3000, 'palette': [\n",
    "    '3ae237', 'b5e22e', 'd6e21f', 'fff705', 'ffd611', 'ffb613', 'ff8b13',\n",
    "    'ff6e08', 'ff500d', 'ff0000', 'de0101', 'c21301', '0602ff', '235cb1',\n",
    "    '307ef3', '269db1', '30c8e2', '32d3ef', '3be285', '3ff38f', '86e26f'\n",
    "  ],\n",
    "}, 'project elevation')\n",
    "Map.addLayer(slope, {'min': 0, 'max': 60}, 'project slope')\n",
    "\n",
    "Map.centerObject(pa, 12)\n",
    "Map.addLayer(pa, {'color': 'red'}, 'Project Area')\n",
    "Map"
   ]
  },
  {
   "cell_type": "code",
   "execution_count": 19,
   "id": "6fc373b5-04ca-482b-a352-e31b84e87bb7",
   "metadata": {},
   "outputs": [],
   "source": [
    "# get histogram of slope distribution with project area\n",
    "histogram = slope.reduceRegion(\n",
    "    reducer=ee.Reducer.fixedHistogram(0, 90, 18),\n",
    "    geometry=pa,\n",
    "    scale=10,\n",
    "    maxPixels=1e9\n",
    ")"
   ]
  },
  {
   "cell_type": "code",
   "execution_count": 20,
   "id": "5f867381-029e-4443-98e1-402a7d5df381",
   "metadata": {
    "tags": []
   },
   "outputs": [],
   "source": [
    "hist_data = histogram.get('slope').getInfo()"
   ]
  },
  {
   "cell_type": "code",
   "execution_count": 22,
   "id": "6d5d337e-de33-40f8-82dc-8ed9562c46fd",
   "metadata": {
    "tags": []
   },
   "outputs": [
    {
     "data": {
      "text/html": [
       "<div>\n",
       "<style scoped>\n",
       "    .dataframe tbody tr th:only-of-type {\n",
       "        vertical-align: middle;\n",
       "    }\n",
       "\n",
       "    .dataframe tbody tr th {\n",
       "        vertical-align: top;\n",
       "    }\n",
       "\n",
       "    .dataframe thead th {\n",
       "        text-align: right;\n",
       "    }\n",
       "</style>\n",
       "<table border=\"1\" class=\"dataframe\">\n",
       "  <thead>\n",
       "    <tr style=\"text-align: right;\">\n",
       "      <th></th>\n",
       "      <th>Slope [v, v+5)</th>\n",
       "      <th>Frequency</th>\n",
       "      <th>Percent (%)</th>\n",
       "      <th>CumulativePercent (%)</th>\n",
       "    </tr>\n",
       "  </thead>\n",
       "  <tbody>\n",
       "    <tr>\n",
       "      <th>0</th>\n",
       "      <td>0</td>\n",
       "      <td>75908.023529</td>\n",
       "      <td>8.946470</td>\n",
       "      <td>8.946470</td>\n",
       "    </tr>\n",
       "    <tr>\n",
       "      <th>1</th>\n",
       "      <td>5</td>\n",
       "      <td>151235.152941</td>\n",
       "      <td>17.824476</td>\n",
       "      <td>26.770945</td>\n",
       "    </tr>\n",
       "    <tr>\n",
       "      <th>2</th>\n",
       "      <td>10</td>\n",
       "      <td>150912.870588</td>\n",
       "      <td>17.786492</td>\n",
       "      <td>44.557437</td>\n",
       "    </tr>\n",
       "    <tr>\n",
       "      <th>3</th>\n",
       "      <td>15</td>\n",
       "      <td>128773.109804</td>\n",
       "      <td>15.177114</td>\n",
       "      <td>59.734551</td>\n",
       "    </tr>\n",
       "    <tr>\n",
       "      <th>4</th>\n",
       "      <td>20</td>\n",
       "      <td>105703.976471</td>\n",
       "      <td>12.458201</td>\n",
       "      <td>72.192752</td>\n",
       "    </tr>\n",
       "    <tr>\n",
       "      <th>5</th>\n",
       "      <td>25</td>\n",
       "      <td>85640.207843</td>\n",
       "      <td>10.093499</td>\n",
       "      <td>82.286251</td>\n",
       "    </tr>\n",
       "    <tr>\n",
       "      <th>6</th>\n",
       "      <td>30</td>\n",
       "      <td>69164.047059</td>\n",
       "      <td>8.151629</td>\n",
       "      <td>90.437880</td>\n",
       "    </tr>\n",
       "    <tr>\n",
       "      <th>7</th>\n",
       "      <td>35</td>\n",
       "      <td>47279.117647</td>\n",
       "      <td>5.572286</td>\n",
       "      <td>96.010166</td>\n",
       "    </tr>\n",
       "    <tr>\n",
       "      <th>8</th>\n",
       "      <td>40</td>\n",
       "      <td>22973.933333</td>\n",
       "      <td>2.707693</td>\n",
       "      <td>98.717859</td>\n",
       "    </tr>\n",
       "    <tr>\n",
       "      <th>9</th>\n",
       "      <td>45</td>\n",
       "      <td>7793.992157</td>\n",
       "      <td>0.918595</td>\n",
       "      <td>99.636453</td>\n",
       "    </tr>\n",
       "    <tr>\n",
       "      <th>10</th>\n",
       "      <td>50</td>\n",
       "      <td>2176.258824</td>\n",
       "      <td>0.256492</td>\n",
       "      <td>99.892946</td>\n",
       "    </tr>\n",
       "    <tr>\n",
       "      <th>11</th>\n",
       "      <td>55</td>\n",
       "      <td>736.125490</td>\n",
       "      <td>0.086759</td>\n",
       "      <td>99.979705</td>\n",
       "    </tr>\n",
       "    <tr>\n",
       "      <th>12</th>\n",
       "      <td>60</td>\n",
       "      <td>158.937255</td>\n",
       "      <td>0.018732</td>\n",
       "      <td>99.998437</td>\n",
       "    </tr>\n",
       "    <tr>\n",
       "      <th>13</th>\n",
       "      <td>65</td>\n",
       "      <td>13.258824</td>\n",
       "      <td>0.001563</td>\n",
       "      <td>100.000000</td>\n",
       "    </tr>\n",
       "    <tr>\n",
       "      <th>14</th>\n",
       "      <td>70</td>\n",
       "      <td>0.000000</td>\n",
       "      <td>0.000000</td>\n",
       "      <td>100.000000</td>\n",
       "    </tr>\n",
       "    <tr>\n",
       "      <th>15</th>\n",
       "      <td>75</td>\n",
       "      <td>0.000000</td>\n",
       "      <td>0.000000</td>\n",
       "      <td>100.000000</td>\n",
       "    </tr>\n",
       "    <tr>\n",
       "      <th>16</th>\n",
       "      <td>80</td>\n",
       "      <td>0.000000</td>\n",
       "      <td>0.000000</td>\n",
       "      <td>100.000000</td>\n",
       "    </tr>\n",
       "    <tr>\n",
       "      <th>17</th>\n",
       "      <td>85</td>\n",
       "      <td>0.000000</td>\n",
       "      <td>0.000000</td>\n",
       "      <td>100.000000</td>\n",
       "    </tr>\n",
       "  </tbody>\n",
       "</table>\n",
       "</div>"
      ],
      "text/plain": [
       "    Slope [v, v+5)      Frequency  Percent (%)  CumulativePercent (%)\n",
       "0                0   75908.023529     8.946470               8.946470\n",
       "1                5  151235.152941    17.824476              26.770945\n",
       "2               10  150912.870588    17.786492              44.557437\n",
       "3               15  128773.109804    15.177114              59.734551\n",
       "4               20  105703.976471    12.458201              72.192752\n",
       "5               25   85640.207843    10.093499              82.286251\n",
       "6               30   69164.047059     8.151629              90.437880\n",
       "7               35   47279.117647     5.572286              96.010166\n",
       "8               40   22973.933333     2.707693              98.717859\n",
       "9               45    7793.992157     0.918595              99.636453\n",
       "10              50    2176.258824     0.256492              99.892946\n",
       "11              55     736.125490     0.086759              99.979705\n",
       "12              60     158.937255     0.018732              99.998437\n",
       "13              65      13.258824     0.001563             100.000000\n",
       "14              70       0.000000     0.000000             100.000000\n",
       "15              75       0.000000     0.000000             100.000000\n",
       "16              80       0.000000     0.000000             100.000000\n",
       "17              85       0.000000     0.000000             100.000000"
      ]
     },
     "execution_count": 22,
     "metadata": {},
     "output_type": "execute_result"
    }
   ],
   "source": [
    "df = pd.DataFrame(hist_data, columns=['Slope [v, v+5)', 'Frequency'])\n",
    "df['Percent (%)'] = (df['Frequency'] / df['Frequency'].sum()) * 100\n",
    "df['CumulativePercent (%)'] = df['Percent (%)'].cumsum()\n",
    "df"
   ]
  },
  {
   "cell_type": "code",
   "execution_count": 32,
   "id": "7cf5e1a1-56c9-437c-9348-ccdad1b1c1fa",
   "metadata": {},
   "outputs": [
    {
     "name": "stdout",
     "output_type": "stream",
     "text": [
      "17.713748941241974 %\n"
     ]
    }
   ],
   "source": [
    "# you can change slope to 30 or lower\n",
    "print(f\"{100-df.loc[df['Slope [v, v+5)'] == 25]['CumulativePercent (%)'].item()} %\")"
   ]
  },
  {
   "cell_type": "code",
   "execution_count": null,
   "id": "149516dd-febb-4e8d-8883-33680c5c9772",
   "metadata": {},
   "outputs": [],
   "source": []
  },
  {
   "cell_type": "code",
   "execution_count": null,
   "id": "ecdbe693-722e-43a1-a57a-7ac122a9b3fb",
   "metadata": {},
   "outputs": [],
   "source": []
  },
  {
   "cell_type": "markdown",
   "id": "318dd43c-ccc8-4c1c-a04f-54067672cc8d",
   "metadata": {},
   "source": [
    "### ESA World Cover (10 m) for land cover in project area"
   ]
  },
  {
   "cell_type": "code",
   "execution_count": 18,
   "id": "7b7c3df3-d35b-4e92-a42d-531c68025051",
   "metadata": {
    "tags": []
   },
   "outputs": [],
   "source": [
    "Map = geemap.Map()\n",
    "dataset = ee.ImageCollection('ESA/WorldCover/v100').first()\n",
    "visualization = {\n",
    "  'bands': ['Map'],\n",
    "}\n",
    "\n",
    "Map.addLayer(dataset.clip(pa), visualization, 'Landcover')\n",
    "Map"
   ]
  },
  {
   "cell_type": "code",
   "execution_count": 28,
   "id": "6b331d2d-d196-4c28-b896-2ee9f454cca0",
   "metadata": {
    "tags": []
   },
   "outputs": [],
   "source": [
    "map_class_table = {'Tree Cover': 10,\n",
    "                   'Shrubland': 20,\n",
    "                   'Grassland': 30,\n",
    "                   'Cropland': 40,\n",
    "                   'Built-up': 50,\n",
    "                   'Bare/sparse vegetation': 60,\n",
    "                   'Snow and ice': 70,\n",
    "                   'Permanent water bodies': 80,\n",
    "                   'Herbaceous wetland': 90,\n",
    "                   'Mangroves': 95,\n",
    "                   'Moss and lichen': 100}\n",
    "\n",
    "landcover_counts = dataset.reduceRegion(reducer=ee.Reducer.frequencyHistogram(),\n",
    "                                        geometry=pa, scale=10, maxPixels=1e9)\n",
    "\n",
    "class_counts = landcover_counts.get('Map').getInfo()\n",
    "\n",
    "df = pd.DataFrame(list(class_counts.items()), columns=['LandCoverClass', 'PixelCount'])\n",
    "df['Percentage'] = (df['PixelCount'] / df['PixelCount'].sum()) * 100\n",
    "df"
   ]
  },
  {
   "cell_type": "code",
   "execution_count": null,
   "id": "544f77b7-eb1f-4a66-849a-12a20ca9dafb",
   "metadata": {},
   "outputs": [],
   "source": []
  },
  {
   "cell_type": "markdown",
   "id": "93f2268a-9e3f-4de1-81ef-a065596e8053",
   "metadata": {},
   "source": [
    "### Near-water forest areas"
   ]
  },
  {
   "cell_type": "code",
   "execution_count": 39,
   "id": "d4134d61-0406-4a45-bfcf-675abad00aa3",
   "metadata": {},
   "outputs": [],
   "source": [
    "water_bodies = dataset.eq(80)\n",
    "distance_to_water = water_bodies.Not().cumulativeCost(\n",
    "    source=water_bodies, \n",
    "    maxDistance=30\n",
    ")\n",
    "buffered_water = distance_to_water.lte(20)"
   ]
  },
  {
   "cell_type": "code",
   "execution_count": 40,
   "id": "25fd812b-f853-4882-8dfb-e5299afd9058",
   "metadata": {},
   "outputs": [],
   "source": [
    "forest = dataset.eq(10) # Binary forest mask (1 = forest, 0 = non-forest)\n",
    "\n",
    "# Intersect the forest raster with the buffered water mask\n",
    "forest_near_water = forest.updateMask(buffered_water)\n",
    "\n",
    "# Calculate the total forest coverage within 30 meters of water bodies\n",
    "forest_area = forest_near_water.multiply(ee.Image.pixelArea()).reduceRegion(\n",
    "    reducer=ee.Reducer.sum(),\n",
    "    geometry=pa,  # Use the extent of the forest image\n",
    "    scale=10,  # Match the dataset resolution\n",
    "    maxPixels=1e9\n",
    ")"
   ]
  },
  {
   "cell_type": "code",
   "execution_count": 41,
   "id": "531c155e-c813-4bab-a0f8-72dad4f54b9b",
   "metadata": {
    "tags": []
   },
   "outputs": [],
   "source": [
    "# Get the result\n",
    "total_forest_area = forest_area.get('Map').getInfo()  # 'constant' band holds the binary mask"
   ]
  },
  {
   "cell_type": "code",
   "execution_count": 42,
   "id": "29f50de5-5048-4fd6-8c03-01ad369986c2",
   "metadata": {},
   "outputs": [
    {
     "name": "stdout",
     "output_type": "stream",
     "text": [
      "Total forest area within 20 meters of water: 51.32 hectares, 0.0099\n"
     ]
    }
   ],
   "source": [
    "print(f\"Total forest area within 20 meters of water: {total_forest_area / 1e4:.2f} hectares, {total_forest_area / 1e4 / pa_area:.4f}\")"
   ]
  },
  {
   "cell_type": "code",
   "execution_count": 38,
   "id": "1df9465b-aaa6-4d27-8e81-21c9a49b0d92",
   "metadata": {
    "tags": []
   },
   "outputs": [
    {
     "name": "stdout",
     "output_type": "stream",
     "text": [
      "Total forest area within 30 meters of water: 91.43 hectares, 0.0176\n"
     ]
    }
   ],
   "source": [
    "print(f\"Total forest area within 30 meters of water: {total_forest_area / 1e4:.2f} hectares, {total_forest_area / 1e4 / pa_area:.4f}\")"
   ]
  },
  {
   "cell_type": "code",
   "execution_count": null,
   "id": "526a92c7-470a-4d98-aa3c-f9beba61ecc4",
   "metadata": {},
   "outputs": [],
   "source": []
  },
  {
   "cell_type": "code",
   "execution_count": null,
   "id": "a6ca1406-0fd6-4aaa-9aad-450cf06647a9",
   "metadata": {},
   "outputs": [],
   "source": []
  },
  {
   "cell_type": "markdown",
   "id": "ded66302-b246-4d16-8a44-7688d0ff4fac",
   "metadata": {},
   "source": [
    "### imminent harvest analysis using biomass map and tree height map "
   ]
  },
  {
   "cell_type": "code",
   "execution_count": 12,
   "id": "e10ebc94-3556-4363-b247-ec8789c00464",
   "metadata": {},
   "outputs": [],
   "source": [
    "# biomass datase ESA \n",
    "agb = ee.ImageCollection(\"projects/sat-io/open-datasets/ESA/ESA_CCI_AGB\")\n",
    "agb_2010 = agb.filter(ee.Filter.date('2010-01-01','2011-01-01')).first().select(['AGB'])\n",
    "agb_2017 = agb.filter(ee.Filter.date('2017-01-01','2018-01-01')).first().select(['AGB'])\n",
    "agb_2018 = agb.filter(ee.Filter.date('2018-01-01','2019-01-01')).first().select(['AGB'])\n",
    "agb_2019 = agb.filter(ee.Filter.date('2019-01-01','2020-01-01')).first().select(['AGB'])\n",
    "agb_2020 = agb.filter(ee.Filter.date('2020-01-01','2021-01-01')).first().select(['AGB'])"
   ]
  },
  {
   "cell_type": "code",
   "execution_count": 10,
   "id": "05e4e38d-572b-4439-971f-c268d3b7d822",
   "metadata": {},
   "outputs": [],
   "source": [
    "def get_histogram_biomass(agb, pa, year, crs):\n",
    "    agb = agb.updateMask(agb.mask())\n",
    "    # Calculate the histogram using the fixed range and bin size\n",
    "    hist = agb.reduceRegion(\n",
    "        reducer=ee.Reducer.fixedHistogram(0, 400, 40),\n",
    "        geometry=pa, \n",
    "        scale=100, \n",
    "        maxPixels=1e9,\n",
    "        crs=f'EPSG:{crs}'\n",
    "    )\n",
    "    \n",
    "    # Extract histogram data\n",
    "    hist_data = hist.get('AGB').getInfo()\n",
    "    # Extract bin edges and counts\n",
    "    bin_edges = [h[0] for h in hist_data]\n",
    "    frequencies = [h[1] for h in hist_data]\n",
    "    # print(sum(frequencies))\n",
    "    # Convert the bin edges to biomass intervals\n",
    "    intervals = [(bin_edges[i], bin_edges[i] + 10) for i in range(len(bin_edges))]\n",
    "\n",
    "    # Calculate the total area per biomass interval\n",
    "    hectares = [frequency * 1 for frequency in frequencies]\n",
    "    \n",
    "    # Create a DataFrame\n",
    "    df = pd.DataFrame({\n",
    "        'Biomass Interval (Mg/ha)': [f'{interval[0]} - {interval[1]}' for interval in intervals],\n",
    "        f'ESA_{year}_Hectares': hectares\n",
    "    })\n",
    "    return df"
   ]
  },
  {
   "cell_type": "code",
   "execution_count": 20,
   "id": "2d545aaa-2283-4d4c-b2f8-53fe719a5876",
   "metadata": {},
   "outputs": [],
   "source": [
    "# Display with biomass map\n",
    "Map = geemap.Map()\n",
    "palette = [\"#C6ECAE\",\"#A1D490\",\"#7CB970\",\"#57A751\",\"#348E32\", \"#267A29\",\"#176520\",\"#0C4E15\",\"#07320D\",\"#031807\"]\n",
    "Map.addLayer(agb_2020.clip(pa), {'min': 0, 'max': 450, 'palette': palette}, 'agb_2020')\n",
    "Map"
   ]
  },
  {
   "cell_type": "code",
   "execution_count": null,
   "id": "cea739c4-943d-485d-be3d-78a6a8be0533",
   "metadata": {},
   "outputs": [],
   "source": [
    "histogram = agb_2010.reduceRegion(reducer=ee.Reducer.fixedHistogram(0, 450, 45), \n",
    "                                      geometry=pa, scale=100, crs=f'EPSG:{epsg_number}', maxPixels=1e9)\n",
    "hist_data = histogram.get('AGB').getInfo()\n",
    "df = pd.DataFrame(hist_data, columns=['Biomass (Mg/ha) [v, v+10)', 'Frequency'])\n",
    "df['Percent (%)'] = (df['Frequency'] / df['Frequency'].sum()) * 100\n",
    "df['CumulativeP (%)'] = df['Percent (%)'].cumsum()\n",
    "print(df)\n",
    "print(f\"Areas with biomass > 270 Mg/ha: {round(100-df.loc[df['Biomass (Mg/ha) [v, v+10)'] == 230]['CumulativeP (%)'].item(), 2)} %\")"
   ]
  },
  {
   "cell_type": "code",
   "execution_count": null,
   "id": "c70af75e-2a96-4a65-b4c7-85e8a0d08547",
   "metadata": {},
   "outputs": [],
   "source": []
  },
  {
   "cell_type": "code",
   "execution_count": 3,
   "id": "2e0f9e1d-91ac-4de1-a211-8d9e447cbf73",
   "metadata": {},
   "outputs": [],
   "source": [
    "# tree height dataset \n",
    "canopy_ht_meta = ee.ImageCollection(\"projects/meta-forest-monitoring-okw37/assets/CanopyHeight\").mosaic()\n",
    "canopy_ht_meta = canopy_ht_meta.updateMask(canopy_ht_meta.gte(1))\n",
    "canopy_ht_eth = ee.Image(\"users/nlang/ETH_GlobalCanopyHeight_2020_10m_v1\")"
   ]
  },
  {
   "cell_type": "code",
   "execution_count": 4,
   "id": "d80a52d4-a9a3-4b05-bcd7-a8b7bfe7cbb5",
   "metadata": {},
   "outputs": [],
   "source": [
    "def get_height_hist(canopy_height, pa, scale, crs):\n",
    "    # Calculate the histogram using the fixed range and bin size\n",
    "    hist = canopy_height.reduceRegion(\n",
    "        reducer=ee.Reducer.fixedHistogram(0, 50, 10),\n",
    "        geometry=pa, \n",
    "        scale=scale, \n",
    "        maxPixels=1e9,\n",
    "        crs=f'EPSG:{crs}'\n",
    "    )\n",
    "    # Extract histogram data\n",
    "    if scale == 1:\n",
    "        hist_data = hist.get('cover_code').getInfo()\n",
    "    else:\n",
    "        hist_data = hist.get('b1').getInfo()\n",
    "    \n",
    "    # Extract bin edges and counts\n",
    "    bin_edges = [h[0] for h in hist_data]\n",
    "    frequencies = [h[1] for h in hist_data]\n",
    "    # print(sum(frequencies))\n",
    "    # Convert the bin edges to biomass intervals\n",
    "    intervals = [(bin_edges[i], bin_edges[i] + 5) for i in range(len(bin_edges))]\n",
    "    \n",
    "    s = scale * scale / 10000\n",
    "    # Calculate the total area per biomass interval\n",
    "    hectares = [frequency * s for frequency in frequencies]\n",
    "    \n",
    "    # Create a DataFrame\n",
    "    df = pd.DataFrame({\n",
    "        'Canopy_Height(m)': [f'{interval[0]} - {interval[1]}' for interval in intervals],\n",
    "        f'Area': hectares\n",
    "    })\n",
    "    return df"
   ]
  },
  {
   "cell_type": "code",
   "execution_count": null,
   "id": "81431668-e40d-4370-9e14-d30f7163a996",
   "metadata": {},
   "outputs": [],
   "source": []
  },
  {
   "cell_type": "code",
   "execution_count": null,
   "id": "ce80be30-9bf2-4f61-98f9-d5a1f91cb03d",
   "metadata": {},
   "outputs": [],
   "source": []
  },
  {
   "cell_type": "code",
   "execution_count": null,
   "id": "a8e5cb2a-6452-4768-afd3-a08c4c38df6e",
   "metadata": {},
   "outputs": [],
   "source": [
    "# tree height\n",
    "histogram = canopy_height.reduceRegion(reducer=ee.Reducer.fixedHistogram(0, 50, 10), \n",
    "                                           geometry=pa, crs=f'EPSG:{epsg_number}', scale=10, maxPixels=1e9)\n",
    "hist_data = histogram.get('b1').getInfo()\n",
    "df = pd.DataFrame(hist_data, columns=['Tree Height (m) [v, v+5)', 'Frequency'])\n",
    "df['Percent (%)'] = (df['Frequency'] / df['Frequency'].sum()) * 100\n",
    "df['CumulativeP (%)'] = df['Percent (%)'].cumsum()\n",
    "print(df)\n",
    "print(f\"Areas with tree height > 30 m: {round(100-df.loc[df['Tree Height (m) [v, v+5)'] == 25]['CumulativeP (%)'].item(), 2)} %\")"
   ]
  },
  {
   "cell_type": "code",
   "execution_count": null,
   "id": "9e4143e2-f744-40ec-b226-9694271e33f6",
   "metadata": {},
   "outputs": [],
   "source": []
  },
  {
   "cell_type": "code",
   "execution_count": 22,
   "id": "6b8068b4-e556-43fd-983f-66a8db490193",
   "metadata": {},
   "outputs": [],
   "source": [
    "Map = geemap.Map()\n",
    "canopy_vis = {\"min\":0,\"max\":50,\n",
    "              \"palette\":[\"#010005\",\"#150b37\",\"#3b0964\",\"#61136e\",\"#85216b\",\"#a92e5e\",\"#cc4248\",\"#e75e2e\",\"#f78410\",\"#fcae12\",\"#f5db4c\",\"#fcffa4\"]}\n",
    "# sd_vis = {\"min\":0,\"max\":15,\n",
    "#           \"palette\":[\"#0d0406\",\"#241628\",\"#36274d\",\"#403a76\",\"#3d5296\",\"#366da0\",\"#3488a6\",\"#36a2ab\",\"#44bcad\",\"#6dd3ad\",\"#aee3c0\",\"#def5e5\"]},\n",
    "\n",
    "canopy_height = ee.Image(\"users/nlang/ETH_GlobalCanopyHeight_2020_10m_v1\")\n",
    "# standard_deviation = ee.Image(\"users/nlang/ETH_GlobalCanopyHeightSD_2020_10m_v1\")\n",
    "\n",
    "Map.addLayer(canopy_height.clip(pa), canopy_vis, 'Canopy top height 2020')\n",
    "Map"
   ]
  },
  {
   "cell_type": "code",
   "execution_count": null,
   "id": "51b17462-0c55-44fd-bd8d-1731e4af5c19",
   "metadata": {},
   "outputs": [],
   "source": []
  },
  {
   "cell_type": "markdown",
   "id": "07cd59e2-59d9-40d9-abd3-9a773bdc051b",
   "metadata": {},
   "source": [
    "### WDPA (polygon) dataset for calculating protection areas"
   ]
  },
  {
   "cell_type": "code",
   "execution_count": 37,
   "id": "bb07b84a-137e-4248-a0d7-c1150ce3773f",
   "metadata": {},
   "outputs": [],
   "source": [
    "Map = geemap.Map()\n",
    "dataset = ee.FeatureCollection('WCMC/WDPA/current/polygons')\n",
    "visParams = {\n",
    "  'palette': ['2ed033', '5aff05', '67b9ff', '5844ff', '0a7618', '2c05ff'],\n",
    "  'min': 0.0,\n",
    "  'max': 1550000.0,\n",
    "  'opacity': 0.8,\n",
    "}\n",
    "image = ee.Image().float().paint(dataset, 'REP_AREA')\n",
    "Map.addLayer(image, visParams, 'WCMC/WDPA/current/polygons')\n",
    "Map"
   ]
  },
  {
   "cell_type": "code",
   "execution_count": 36,
   "id": "a15bc85f-6524-40e3-9d34-4af31fb86422",
   "metadata": {},
   "outputs": [],
   "source": [
    "project_geometry = pa.geometry()\n",
    "\n",
    "# Filter WDPA polygons that intersect the project area\n",
    "wdpa_filtered = dataset.filterBounds(project_geometry)\n",
    "\n",
    "# Calculate intersections\n",
    "overlap = wdpa_filtered.map(lambda feature: feature.set(\n",
    "    'ha', feature.intersection(project_geometry).area(1).divide(1e4)\n",
    "))\n",
    "\n",
    "total_overlap_area = overlap.aggregate_sum('ha').getInfo()\n",
    "print(total_overlap_area)"
   ]
  },
  {
   "cell_type": "code",
   "execution_count": null,
   "id": "95e4491c-3e6e-4945-9cd6-118865889691",
   "metadata": {},
   "outputs": [],
   "source": []
  }
 ],
 "metadata": {
  "kernelspec": {
   "display_name": "Python 3 (ipykernel)",
   "language": "python",
   "name": "python3"
  },
  "language_info": {
   "codemirror_mode": {
    "name": "ipython",
    "version": 3
   },
   "file_extension": ".py",
   "mimetype": "text/x-python",
   "name": "python",
   "nbconvert_exporter": "python",
   "pygments_lexer": "ipython3",
   "version": "3.10.6"
  }
 },
 "nbformat": 4,
 "nbformat_minor": 5
}

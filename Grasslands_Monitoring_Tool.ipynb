{
 "cells": [
  {
   "cell_type": "markdown",
   "id": "b5d109f6-45e3-475e-bb66-be16d9e03815",
   "metadata": {},
   "source": [
    "# Grasslands Monitoring Tool"
   ]
  },
  {
   "cell_type": "code",
   "execution_count": 1,
   "id": "a3223616-bff1-4083-ab87-80ed1c863884",
   "metadata": {},
   "outputs": [],
   "source": [
    "# load geemap and other packages\n",
    "import os\n",
    "import ee\n",
    "import geemap\n",
    "from glob import glob\n",
    "import pandas as pd\n",
    "import numpy as np\n",
    "import geopandas as gpd"
   ]
  },
  {
   "cell_type": "code",
   "execution_count": 30,
   "id": "abaf9daf-9213-4e64-b067-5eef4ef0a675",
   "metadata": {},
   "outputs": [
    {
     "data": {
      "text/html": [
       "<p>To authorize access needed by Earth Engine, open the following\n",
       "        URL in a web browser and follow the instructions:</p>\n",
       "        <p><a href=https://code.earthengine.google.com/client-auth?scopes=https%3A//www.googleapis.com/auth/earthengine%20https%3A//www.googleapis.com/auth/devstorage.full_control&request_id=BfwhPuRAkGdMqZQOPX50OK7iYiA1UIOO6efo4W_uTY4&tc=NT5WoaBHh8W7UCB8bg6nEYlkome8rUHcShupqpSGt28&cc=OqCiyfu0LqZJgjT_dhkvGnLjjnTzNghErN-mLaMTLoA>https://code.earthengine.google.com/client-auth?scopes=https%3A//www.googleapis.com/auth/earthengine%20https%3A//www.googleapis.com/auth/devstorage.full_control&request_id=BfwhPuRAkGdMqZQOPX50OK7iYiA1UIOO6efo4W_uTY4&tc=NT5WoaBHh8W7UCB8bg6nEYlkome8rUHcShupqpSGt28&cc=OqCiyfu0LqZJgjT_dhkvGnLjjnTzNghErN-mLaMTLoA</a></p>\n",
       "        <p>The authorization workflow will generate a code, which you should paste in the box below.</p>\n",
       "        "
      ],
      "text/plain": [
       "<IPython.core.display.HTML object>"
      ]
     },
     "metadata": {},
     "output_type": "display_data"
    },
    {
     "name": "stdin",
     "output_type": "stream",
     "text": [
      "Enter verification code:  4/1AUJR-x5VZZDkJwK8ftTgV4DkCheZlGZxu__rNKDsg2og5iHvqIfV5SukJ3o\n"
     ]
    },
    {
     "name": "stdout",
     "output_type": "stream",
     "text": [
      "\n",
      "Successfully saved authorization token.\n"
     ]
    }
   ],
   "source": [
    "# Trigger the authentication flow\n",
    "# need to do it when it is first time to run this notebook\n",
    "# will be directed for permission confirmation \n",
    "# and The authorization workflow will generate a code, \n",
    "# which you should paste in the box below.\n",
    "ee.Authenticate()"
   ]
  },
  {
   "cell_type": "code",
   "execution_count": 2,
   "id": "d281f5b7-94b9-4f16-847a-2282bbf84d9b",
   "metadata": {},
   "outputs": [],
   "source": [
    "ee.Initialize()"
   ]
  },
  {
   "cell_type": "markdown",
   "id": "537e0638-1677-4725-b451-4f927fa9f7cd",
   "metadata": {},
   "source": [
    "### pre-processing grassland project area shapefile"
   ]
  },
  {
   "cell_type": "code",
   "execution_count": 3,
   "id": "dd329af9-6490-4d65-ac48-fd3f2fd71aa1",
   "metadata": {},
   "outputs": [
    {
     "name": "stdout",
     "output_type": "stream",
     "text": [
      "../Grass\\PA_Projected_wgs84.shp\n"
     ]
    }
   ],
   "source": [
    "# define project area path\n",
    "pa_path = r'../Grass/PA_Projected.shp'\n",
    "name, ext = os.path.splitext(os.path.basename(pa_path))\n",
    "new_pa_path = os.path.join(os.path.dirname(pa_path), f'{name}_wgs84{ext}')\n",
    "print(new_pa_path)"
   ]
  },
  {
   "cell_type": "code",
   "execution_count": 4,
   "id": "4d97c49c-8f14-40bf-be88-129285100447",
   "metadata": {},
   "outputs": [],
   "source": [
    "def crs_conversion(project_area_path):\n",
    "    project_df = gpd.read_file(project_area_path)\n",
    "    # print(f'original crs:{project_df.crs}')\n",
    "    \n",
    "    project_df_wgs84 = project_df.to_crs(epsg=4326)\n",
    "    # print(f'new crs: {project_df_wgs84.crs}')\n",
    "    \n",
    "    centroid = project_df_wgs84.unary_union.centroid\n",
    "    lon = centroid.x\n",
    "    utm_zone = int((lon + 180) // 6) + 1\n",
    "    epsg_number = 32600+utm_zone\n",
    "    # print(f'new project crs: EPSG:326{utm_zone}')\n",
    "    project_df_wgs84_p = project_df_wgs84.to_crs(epsg=epsg_number)\n",
    "    # remove small polygons less than 1 ha\n",
    "    project_df_wgs84_p['area'] = project_df_wgs84_p.area\n",
    "    project_df_filter = project_df_wgs84_p[project_df_wgs84_p['area'] > 10000]\n",
    "    \n",
    "    return epsg_number, project_df_filter"
   ]
  },
  {
   "cell_type": "code",
   "execution_count": 5,
   "id": "028292ac-8885-4435-b11c-718451c8c623",
   "metadata": {},
   "outputs": [
    {
     "name": "stdout",
     "output_type": "stream",
     "text": [
      "32613\n"
     ]
    }
   ],
   "source": [
    "epsg_number, project_df_filter = crs_conversion(pa_path)\n",
    "print(epsg_number)\n",
    "project_df_filter.to_file(new_pa_path)"
   ]
  },
  {
   "cell_type": "markdown",
   "id": "6c9a1545-c301-4f7b-80a0-49f16fa751bd",
   "metadata": {},
   "source": [
    "### upload project area and buffer area into google earth engine"
   ]
  },
  {
   "cell_type": "code",
   "execution_count": 6,
   "id": "85b4cc30-e7f4-4cd6-a31f-617942634892",
   "metadata": {},
   "outputs": [],
   "source": [
    "pa = geemap.shp_to_ee(r'../Grass/PA_Projected_S1.shp')"
   ]
  },
  {
   "cell_type": "code",
   "execution_count": 7,
   "id": "3c5dd5ce-34af-4eff-ac91-cc54486269f0",
   "metadata": {},
   "outputs": [],
   "source": [
    "buffer = geemap.shp_to_ee(r'../Grass/Buffer.shp')"
   ]
  },
  {
   "cell_type": "code",
   "execution_count": 7,
   "id": "b1e61c76-b54b-4d2b-8623-2497eb82ecca",
   "metadata": {},
   "outputs": [
    {
     "name": "stdout",
     "output_type": "stream",
     "text": [
      "Project area:555303.58 ha\n"
     ]
    }
   ],
   "source": [
    "# calculate project area and buffer area\n",
    "pa_area = round(pa.geometry().area(1).getInfo()/10000, 2)\n",
    "print(f'Project area:{pa_area} ha')"
   ]
  },
  {
   "cell_type": "code",
   "execution_count": 9,
   "id": "b0d096ea-8511-4092-ac37-b6ef7bc0d92a",
   "metadata": {},
   "outputs": [
    {
     "name": "stdout",
     "output_type": "stream",
     "text": [
      "Buffer area:1943191.41 ha\n"
     ]
    }
   ],
   "source": [
    "# calculate project area and buffer area\n",
    "buffer_area = round(buffer.geometry().area(1).getInfo()/10000, 2)\n",
    "print(f'Buffer area:{buffer_area} ha')"
   ]
  },
  {
   "cell_type": "code",
   "execution_count": 8,
   "id": "f7872656-09c7-46f4-b052-6134b846b1c1",
   "metadata": {},
   "outputs": [
    {
     "data": {
      "application/vnd.jupyter.widget-view+json": {
       "model_id": "19456b0815aa43b5985f28ca7abe7cd4",
       "version_major": 2,
       "version_minor": 0
      },
      "text/plain": [
       "Map(center=[29.251727924980372, -106.12141254760482], controls=(WidgetControl(options=['position', 'transparen…"
      ]
     },
     "metadata": {},
     "output_type": "display_data"
    }
   ],
   "source": [
    "# Display project area and buffer area in google earth engine\n",
    "Map = geemap.Map()\n",
    "Map.centerObject(pa, 10)\n",
    "Map.addLayer(ee.Image().paint(pa, 0, 2), {'palette': 'red'}, 'Project Area')\n",
    "Map.addLayer(ee.Image().paint(buffer, 0, 2), {'palette': 'green'}, 'Buffer Area')\n",
    "Map"
   ]
  },
  {
   "cell_type": "markdown",
   "id": "355eacb5-32ff-4b9f-bdff-147222726c01",
   "metadata": {},
   "source": [
    "### Landcover composition in project area with GLC-FCS30 dataset"
   ]
  },
  {
   "cell_type": "code",
   "execution_count": 9,
   "id": "a5b8e79d-114a-4925-91c0-5b3e9a195e31",
   "metadata": {},
   "outputs": [],
   "source": [
    "annual = ee.ImageCollection(\"projects/sat-io/open-datasets/GLC-FCS30D/annual\").mosaic()"
   ]
  },
  {
   "cell_type": "code",
   "execution_count": 12,
   "id": "97aaf3a3-db39-4226-a572-a274010aa7e7",
   "metadata": {},
   "outputs": [],
   "source": [
    "land_2010 = annual.select(f\"b{11}\")\n",
    "land_2015 = annual.select(f\"b{16}\")\n",
    "land_2016 = annual.select(f\"b{17}\")\n",
    "land_2021 = annual.select(f\"b{22}\")"
   ]
  },
  {
   "cell_type": "code",
   "execution_count": 13,
   "id": "c5b4a7c4-1549-4b32-b0b6-229f463069bd",
   "metadata": {},
   "outputs": [],
   "source": [
    "landcover_counts = land_2010.reduceRegion(reducer=ee.Reducer.frequencyHistogram(),\n",
    "                                          geometry=pa, scale=30, crs=f'EPSG:{epsg_number}', maxPixels=1e13)"
   ]
  },
  {
   "cell_type": "code",
   "execution_count": 20,
   "id": "6d811545-642f-47b2-b5cd-fbe287a5f42d",
   "metadata": {},
   "outputs": [],
   "source": [
    "class_counts = landcover_counts.get('b11').getInfo()"
   ]
  },
  {
   "cell_type": "code",
   "execution_count": 23,
   "id": "53fc3533-982c-4c28-b856-e735571b6302",
   "metadata": {},
   "outputs": [],
   "source": [
    "df = pd.DataFrame(list(class_counts.items()), columns=['LandCoverID', 'PixelCount'])\n",
    "df['Percentage (%)'] = (df['PixelCount'] / df['PixelCount'].sum()) * 100"
   ]
  },
  {
   "cell_type": "code",
   "execution_count": 24,
   "id": "5f3cf4ba-e445-435f-af05-0e0ba24c5960",
   "metadata": {},
   "outputs": [
    {
     "data": {
      "text/html": [
       "<div>\n",
       "<style scoped>\n",
       "    .dataframe tbody tr th:only-of-type {\n",
       "        vertical-align: middle;\n",
       "    }\n",
       "\n",
       "    .dataframe tbody tr th {\n",
       "        vertical-align: top;\n",
       "    }\n",
       "\n",
       "    .dataframe thead th {\n",
       "        text-align: right;\n",
       "    }\n",
       "</style>\n",
       "<table border=\"1\" class=\"dataframe\">\n",
       "  <thead>\n",
       "    <tr style=\"text-align: right;\">\n",
       "      <th></th>\n",
       "      <th>LandCoverID</th>\n",
       "      <th>PixelCount</th>\n",
       "      <th>Percentage (%)</th>\n",
       "    </tr>\n",
       "  </thead>\n",
       "  <tbody>\n",
       "    <tr>\n",
       "      <th>0</th>\n",
       "      <td>10</td>\n",
       "      <td>3.783098e+02</td>\n",
       "      <td>0.006136</td>\n",
       "    </tr>\n",
       "    <tr>\n",
       "      <th>1</th>\n",
       "      <td>11</td>\n",
       "      <td>8.580440e+04</td>\n",
       "      <td>1.391679</td>\n",
       "    </tr>\n",
       "    <tr>\n",
       "      <th>2</th>\n",
       "      <td>120</td>\n",
       "      <td>3.680124e+06</td>\n",
       "      <td>59.688695</td>\n",
       "    </tr>\n",
       "    <tr>\n",
       "      <th>3</th>\n",
       "      <td>121</td>\n",
       "      <td>2.219216e+01</td>\n",
       "      <td>0.000360</td>\n",
       "    </tr>\n",
       "    <tr>\n",
       "      <th>4</th>\n",
       "      <td>130</td>\n",
       "      <td>1.125428e+06</td>\n",
       "      <td>18.253553</td>\n",
       "    </tr>\n",
       "    <tr>\n",
       "      <th>5</th>\n",
       "      <td>140</td>\n",
       "      <td>3.027508e+04</td>\n",
       "      <td>0.491038</td>\n",
       "    </tr>\n",
       "    <tr>\n",
       "      <th>6</th>\n",
       "      <td>150</td>\n",
       "      <td>3.684314e+02</td>\n",
       "      <td>0.005976</td>\n",
       "    </tr>\n",
       "    <tr>\n",
       "      <th>7</th>\n",
       "      <td>181</td>\n",
       "      <td>2.784314e-01</td>\n",
       "      <td>0.000005</td>\n",
       "    </tr>\n",
       "    <tr>\n",
       "      <th>8</th>\n",
       "      <td>182</td>\n",
       "      <td>1.512851e+03</td>\n",
       "      <td>0.024537</td>\n",
       "    </tr>\n",
       "    <tr>\n",
       "      <th>9</th>\n",
       "      <td>183</td>\n",
       "      <td>2.332000e+02</td>\n",
       "      <td>0.003782</td>\n",
       "    </tr>\n",
       "    <tr>\n",
       "      <th>10</th>\n",
       "      <td>190</td>\n",
       "      <td>9.669604e+03</td>\n",
       "      <td>0.156833</td>\n",
       "    </tr>\n",
       "    <tr>\n",
       "      <th>11</th>\n",
       "      <td>20</td>\n",
       "      <td>2.000000e+00</td>\n",
       "      <td>0.000032</td>\n",
       "    </tr>\n",
       "    <tr>\n",
       "      <th>12</th>\n",
       "      <td>200</td>\n",
       "      <td>5.511585e+05</td>\n",
       "      <td>8.939354</td>\n",
       "    </tr>\n",
       "    <tr>\n",
       "      <th>13</th>\n",
       "      <td>210</td>\n",
       "      <td>3.562376e+03</td>\n",
       "      <td>0.057779</td>\n",
       "    </tr>\n",
       "    <tr>\n",
       "      <th>14</th>\n",
       "      <td>51</td>\n",
       "      <td>3.062224e+04</td>\n",
       "      <td>0.496668</td>\n",
       "    </tr>\n",
       "    <tr>\n",
       "      <th>15</th>\n",
       "      <td>52</td>\n",
       "      <td>5.000000e+00</td>\n",
       "      <td>0.000081</td>\n",
       "    </tr>\n",
       "    <tr>\n",
       "      <th>16</th>\n",
       "      <td>61</td>\n",
       "      <td>1.594784e+05</td>\n",
       "      <td>2.586614</td>\n",
       "    </tr>\n",
       "    <tr>\n",
       "      <th>17</th>\n",
       "      <td>62</td>\n",
       "      <td>1.018817e+05</td>\n",
       "      <td>1.652440</td>\n",
       "    </tr>\n",
       "    <tr>\n",
       "      <th>18</th>\n",
       "      <td>71</td>\n",
       "      <td>1.918366e+05</td>\n",
       "      <td>3.111438</td>\n",
       "    </tr>\n",
       "    <tr>\n",
       "      <th>19</th>\n",
       "      <td>72</td>\n",
       "      <td>4.029565e+04</td>\n",
       "      <td>0.653564</td>\n",
       "    </tr>\n",
       "    <tr>\n",
       "      <th>20</th>\n",
       "      <td>81</td>\n",
       "      <td>6.098131e+04</td>\n",
       "      <td>0.989068</td>\n",
       "    </tr>\n",
       "    <tr>\n",
       "      <th>21</th>\n",
       "      <td>82</td>\n",
       "      <td>7.082784e+02</td>\n",
       "      <td>0.011488</td>\n",
       "    </tr>\n",
       "    <tr>\n",
       "      <th>22</th>\n",
       "      <td>91</td>\n",
       "      <td>9.118072e+04</td>\n",
       "      <td>1.478879</td>\n",
       "    </tr>\n",
       "  </tbody>\n",
       "</table>\n",
       "</div>"
      ],
      "text/plain": [
       "   LandCoverID    PixelCount  Percentage (%)\n",
       "0           10  3.783098e+02        0.006136\n",
       "1           11  8.580440e+04        1.391679\n",
       "2          120  3.680124e+06       59.688695\n",
       "3          121  2.219216e+01        0.000360\n",
       "4          130  1.125428e+06       18.253553\n",
       "5          140  3.027508e+04        0.491038\n",
       "6          150  3.684314e+02        0.005976\n",
       "7          181  2.784314e-01        0.000005\n",
       "8          182  1.512851e+03        0.024537\n",
       "9          183  2.332000e+02        0.003782\n",
       "10         190  9.669604e+03        0.156833\n",
       "11          20  2.000000e+00        0.000032\n",
       "12         200  5.511585e+05        8.939354\n",
       "13         210  3.562376e+03        0.057779\n",
       "14          51  3.062224e+04        0.496668\n",
       "15          52  5.000000e+00        0.000081\n",
       "16          61  1.594784e+05        2.586614\n",
       "17          62  1.018817e+05        1.652440\n",
       "18          71  1.918366e+05        3.111438\n",
       "19          72  4.029565e+04        0.653564\n",
       "20          81  6.098131e+04        0.989068\n",
       "21          82  7.082784e+02        0.011488\n",
       "22          91  9.118072e+04        1.478879"
      ]
     },
     "execution_count": 24,
     "metadata": {},
     "output_type": "execute_result"
    }
   ],
   "source": [
    "df"
   ]
  },
  {
   "cell_type": "code",
   "execution_count": 26,
   "id": "f67ea404-0cf8-4b92-91ef-24d400faa022",
   "metadata": {},
   "outputs": [],
   "source": [
    "# export data to xlsx\n",
    "with pd.ExcelWriter(r'../Grass/Land_Cover_GLC-FCS_PA.xlsx') as writer:\n",
    "    for b, land in zip(['b11', 'b16', 'b17', 'b22'], [land_2010, land_2015, land_2016, land_2021]):\n",
    "        landcover_counts = land.reduceRegion(reducer=ee.Reducer.frequencyHistogram(),\n",
    "                                             geometry=pa, scale=30, crs=f'EPSG:{epsg_number}', maxPixels=1e13)\n",
    "        class_counts = landcover_counts.get(b).getInfo()\n",
    "        df = pd.DataFrame(list(class_counts.items()), columns=['LandCoverID', 'PixelCount'])\n",
    "        df['Percentage (%)'] = (df['PixelCount'] / df['PixelCount'].sum()) * 100\n",
    "        df.to_excel(writer, sheet_name=b, index=True)"
   ]
  },
  {
   "cell_type": "code",
   "execution_count": null,
   "id": "38b831c1-33e1-454c-8390-d8ea042c2ed5",
   "metadata": {},
   "outputs": [],
   "source": []
  },
  {
   "cell_type": "markdown",
   "id": "4c01e4c5-b2dd-47be-bf16-b31aa43e8765",
   "metadata": {},
   "source": [
    "### Land cover in project area using ESA land cover dataset 2020 "
   ]
  },
  {
   "cell_type": "code",
   "execution_count": 10,
   "id": "6a8a0752-0529-47c1-995d-e44ab2cf1c60",
   "metadata": {},
   "outputs": [],
   "source": [
    "dataset = ee.ImageCollection('ESA/WorldCover/v100').first()"
   ]
  },
  {
   "cell_type": "code",
   "execution_count": 9,
   "id": "dec9d2d5-988e-4fc9-a869-70175e58f9f9",
   "metadata": {},
   "outputs": [],
   "source": [
    "visualization = {\n",
    "  'bands': ['Map'],\n",
    "}\n",
    "\n",
    "Map.addLayer(dataset.clip(pa), visualization, 'Landcover')"
   ]
  },
  {
   "cell_type": "code",
   "execution_count": 11,
   "id": "c6a7ca8b-170c-4a0a-a46c-da84484ff94d",
   "metadata": {},
   "outputs": [],
   "source": [
    "map_class_table = {10: 'Tree Cover',\n",
    "                   20: 'Shrubland',\n",
    "                   30: 'Grassland',\n",
    "                   40: 'Cropland',\n",
    "                   50: 'Built-up',\n",
    "                   60: 'Bare/sparse vegetation',\n",
    "                   70: 'Snow and ice',\n",
    "                   80: 'Permanent water bodies',\n",
    "                   90: 'Herbaceous wetland',\n",
    "                   95: 'Mangroves',\n",
    "                   100: 'Moss and lichen'}"
   ]
  },
  {
   "cell_type": "code",
   "execution_count": 24,
   "id": "3760ccd6-a6d4-4741-bbd5-58ac197ff753",
   "metadata": {},
   "outputs": [
    {
     "name": "stdout",
     "output_type": "stream",
     "text": [
      "Land Cover Composition in Project Area:\n",
      "  LandCoverID    PixelCount  Percentage (%)          LandCoverClass\n",
      "0          10  1.597753e+06        2.879145              Tree Cover\n",
      "1          20  3.381700e+07       60.938081               Shrubland\n",
      "2          30  1.154721e+07       20.808029               Grassland\n",
      "3          40  6.811478e+04        0.122743                Cropland\n",
      "4          50  6.754941e+03        0.012172                Built-up\n",
      "5          60  8.446449e+06       15.220464  Bare/sparse vegetation\n",
      "6          80  2.451176e+03        0.004417  Permanent water bodies\n",
      "7          90  8.296482e+03        0.014950      Herbaceous wetland\n"
     ]
    }
   ],
   "source": [
    "landcover_counts = dataset.reduceRegion(reducer=ee.Reducer.frequencyHistogram(),\n",
    "                                        geometry=pa, scale=10, crs=f'EPSG:{epsg_number}', maxPixels=1e13)\n",
    "\n",
    "class_counts = landcover_counts.get('Map').getInfo()\n",
    "\n",
    "df = pd.DataFrame(list(class_counts.items()), columns=['LandCoverID', 'PixelCount'])\n",
    "df['Percentage (%)'] = (df['PixelCount'] / df['PixelCount'].sum()) * 100\n",
    "df['LandCoverClass'] = [map_class_table[int(i)] for i in df['LandCoverID']]\n",
    "print('Land Cover Composition in Project Area:')\n",
    "print(df)"
   ]
  },
  {
   "cell_type": "code",
   "execution_count": 25,
   "id": "3da520fd-22a9-4024-9a4f-8d9eef22e4b3",
   "metadata": {},
   "outputs": [
    {
     "name": "stdout",
     "output_type": "stream",
     "text": [
      "Land Cover Composition in Buffer Area:\n",
      "  LandCoverID    PixelCount  Percentage (%)          LandCoverClass\n",
      "0          10  1.002508e+07        5.163815              Tree Cover\n",
      "1          20  1.183005e+08       60.935396               Shrubland\n",
      "2          30  3.901542e+07       20.096443               Grassland\n",
      "3          40  2.035650e+06        1.048543                Cropland\n",
      "4          50  2.201643e+05        0.113404                Built-up\n",
      "5          60  2.437904e+07       12.557393  Bare/sparse vegetation\n",
      "6          80  1.050373e+05        0.054104  Permanent water bodies\n",
      "7          90  5.999409e+04        0.030902      Herbaceous wetland\n"
     ]
    }
   ],
   "source": [
    "landcover_counts = dataset.reduceRegion(reducer=ee.Reducer.frequencyHistogram(),\n",
    "                                        geometry=buffer, scale=10, crs=f'EPSG:{epsg_number}', maxPixels=1e9)\n",
    "\n",
    "class_counts = landcover_counts.get('Map').getInfo()\n",
    "df = pd.DataFrame(list(class_counts.items()), columns=['LandCoverID', 'PixelCount'])\n",
    "df['Percentage (%)'] = (df['PixelCount'] / df['PixelCount'].sum()) * 100\n",
    "df['LandCoverClass'] = [map_class_table[int(i)] for i in df['LandCoverID']]\n",
    "print('Land Cover Composition in Buffer Area:')\n",
    "print(df)"
   ]
  },
  {
   "cell_type": "code",
   "execution_count": null,
   "id": "d71e9b66-3b32-44dc-bed7-e230385651f6",
   "metadata": {},
   "outputs": [],
   "source": []
  },
  {
   "cell_type": "markdown",
   "id": "5879f38a-3076-4725-997b-4501295b9abc",
   "metadata": {},
   "source": [
    "### Slope distribution within project area uisng DEM 10m dataset"
   ]
  },
  {
   "cell_type": "code",
   "execution_count": 27,
   "id": "484af9a2-b068-44a0-b9bf-8584023ed447",
   "metadata": {},
   "outputs": [],
   "source": [
    "# DEM dataset for slope, elvation\n",
    "dataset = ee.Image('USGS/3DEP/10m')\n",
    "elevation = dataset.select('elevation')\n",
    "slope = ee.Terrain.slope(elevation)"
   ]
  },
  {
   "cell_type": "code",
   "execution_count": 47,
   "id": "d5286aa4-a490-44b0-b562-f2ca57e17779",
   "metadata": {},
   "outputs": [
    {
     "name": "stdout",
     "output_type": "stream",
     "text": [
      "    Slope [v, v+5)     Frequency  Percent (%)  CumulativeP (%)\n",
      "0                0  1.007226e+07    78.922811        78.922811\n",
      "1                5  7.412148e+05     5.807910        84.730721\n",
      "2               10  6.053972e+05     4.743689        89.474410\n",
      "3               15  5.009842e+05     3.925544        93.399954\n",
      "4               20  3.782015e+05     2.963460        96.363415\n",
      "5               25  2.545643e+05     1.994680        98.358095\n",
      "6               30  1.401816e+05     1.098416        99.456510\n",
      "7               35  5.117479e+04     0.400988        99.857499\n",
      "8               40  1.394693e+04     0.109283        99.966782\n",
      "9               45  3.220298e+03     0.025233        99.992016\n",
      "10              50  7.148902e+02     0.005602        99.997617\n",
      "11              55  2.118078e+02     0.001660        99.999277\n",
      "12              60  7.696863e+01     0.000603        99.999880\n",
      "13              65  1.331765e+01     0.000104        99.999984\n",
      "14              70  2.000000e+00     0.000016       100.000000\n",
      "15              75  0.000000e+00     0.000000       100.000000\n",
      "16              80  0.000000e+00     0.000000       100.000000\n",
      "17              85  0.000000e+00     0.000000       100.000000\n",
      "Areas with Slope > 65 degrees: 0.0 %\n"
     ]
    }
   ],
   "source": [
    "histogram = slope.reduceRegion(reducer=ee.Reducer.fixedHistogram(0, 90, 18), \n",
    "                               geometry=pa, scale=10, crs=f'EPSG:{epsg_number}', maxPixels=1e9)\n",
    "hist_data = histogram.get('slope').getInfo()\n",
    "\n",
    "df = pd.DataFrame(hist_data, columns=['Slope [v, v+5)', 'Frequency'])\n",
    "df['Percent (%)'] = (df['Frequency'] / df['Frequency'].sum()) * 100\n",
    "df['CumulativeP (%)'] = df['Percent (%)'].cumsum()\n",
    "print(df)\n",
    "print(f\"Areas with Slope > 65 degrees: {round(100-df.loc[df['Slope [v, v+5)'] == 65]['CumulativeP (%)'].item(), 2)} %\")"
   ]
  },
  {
   "cell_type": "code",
   "execution_count": 28,
   "id": "764615dc-08b6-4247-ba2d-61d02b3a50e2",
   "metadata": {},
   "outputs": [
    {
     "name": "stdout",
     "output_type": "stream",
     "text": [
      "    Slope [v, v+5)     Frequency  Percent (%)  CumulativeP (%)\n",
      "0                0  2.721442e+07    74.566900        74.566900\n",
      "1                5  2.765536e+06     7.577505        82.144404\n",
      "2               10  1.943422e+06     5.324931        87.469336\n",
      "3               15  1.511573e+06     4.141675        91.611010\n",
      "4               20  1.234558e+06     3.382660        94.993671\n",
      "5               25  9.437844e+05     2.585948        97.579618\n",
      "6               30  5.788637e+05     1.586073        99.165692\n",
      "7               35  2.220885e+05     0.608517        99.774209\n",
      "8               40  5.942315e+04     0.162818        99.937027\n",
      "9               45  1.600536e+04     0.043854        99.980881\n",
      "10              50  4.763125e+03     0.013051        99.993932\n",
      "11              55  1.659573e+03     0.004547        99.998479\n",
      "12              60  4.369412e+02     0.001197        99.999677\n",
      "13              65  1.070000e+02     0.000293        99.999970\n",
      "14              70  1.100000e+01     0.000030       100.000000\n",
      "15              75  0.000000e+00     0.000000       100.000000\n",
      "16              80  0.000000e+00     0.000000       100.000000\n",
      "17              85  0.000000e+00     0.000000       100.000000\n",
      "Areas with Slope > 65 degrees: 0.0 %\n"
     ]
    }
   ],
   "source": [
    "histogram = slope.reduceRegion(reducer=ee.Reducer.fixedHistogram(0, 90, 18), \n",
    "                               geometry=buffer, scale=10, crs=f'EPSG:{epsg_number}', maxPixels=1e9)\n",
    "hist_data = histogram.get('slope').getInfo()\n",
    "df = pd.DataFrame(hist_data, columns=['Slope [v, v+5)', 'Frequency'])\n",
    "df['Percent (%)'] = (df['Frequency'] / df['Frequency'].sum()) * 100\n",
    "df['CumulativeP (%)'] = df['Percent (%)'].cumsum()\n",
    "print(df)\n",
    "print(f\"Areas with Slope > 65 degrees: {round(100-df.loc[df['Slope [v, v+5)'] == 65]['CumulativeP (%)'].item(), 2)} %\")"
   ]
  },
  {
   "cell_type": "code",
   "execution_count": 29,
   "id": "647a3ede-837f-40f4-888d-f2d8b77d7149",
   "metadata": {},
   "outputs": [],
   "source": [
    "df.to_excel('2887_PA_RS_Index.xlsx')"
   ]
  },
  {
   "cell_type": "code",
   "execution_count": null,
   "id": "20251f55-f12c-4c24-b303-41760abad781",
   "metadata": {},
   "outputs": [],
   "source": []
  },
  {
   "cell_type": "markdown",
   "id": "c8b24576-eb7f-46c6-8ae0-0f8689c05a23",
   "metadata": {},
   "source": [
    "### Vegetation indices from Landsat monitoring in project area"
   ]
  },
  {
   "cell_type": "code",
   "execution_count": 13,
   "id": "ddf589ea-86b0-4a39-9365-8d16430332e2",
   "metadata": {},
   "outputs": [],
   "source": [
    "def annual_veg_indices_fc(geom):\n",
    "    # Cloud and shadow masking for Landsat Surface Reflectance\n",
    "    def mask_clouds_landsat_sr(image):\n",
    "        qa = image.select('QA_PIXEL')\n",
    "        cloud = (1 << 3)\n",
    "        shadow = (1 << 4)\n",
    "        mask = qa.bitwiseAnd(cloud).eq(0).And(\n",
    "               qa.bitwiseAnd(shadow).eq(0))\n",
    "        return image.updateMask(mask)\n",
    "\n",
    "    # Calculate NDVI, EVI, SAVI, GNDVI\n",
    "    def calc_indices(image):\n",
    "        red = image.select('SR_B4').multiply(0.0000275).add(-0.2)\n",
    "        nir = image.select('SR_B5').multiply(0.0000275).add(-0.2)\n",
    "        blue = image.select('SR_B2').multiply(0.0000275).add(-0.2)\n",
    "\n",
    "        ndvi = nir.subtract(red).divide(nir.add(red)).rename('NDVI')\n",
    "        evi = nir.subtract(red).multiply(2.5).divide(\n",
    "            nir.add(red.multiply(6)).subtract(blue.multiply(7.5)).add(1)\n",
    "        ).rename('EVI')\n",
    "        savi = nir.subtract(red).multiply(1.5).divide(nir.add(red).add(0.5)).rename('SAVI')\n",
    "        gndvi = nir.subtract(image.select('SR_B3').multiply(0.0000275).add(-0.2))\\\n",
    "                    .divide(nir.add(image.select('SR_B3').multiply(0.0000275).add(-0.2)))\\\n",
    "                    .rename('GNDVI')\n",
    "\n",
    "        return image.addBands([ndvi, evi, savi, gndvi])\n",
    "\n",
    "    # Load and process image collection\n",
    "    ls = (ee.ImageCollection(\"LANDSAT/LC08/C02/T1_L2\")\n",
    "          .filter(ee.Filter.lt('CLOUD_COVER', 20))\n",
    "          .map(mask_clouds_landsat_sr)\n",
    "          .map(calc_indices))\n",
    "\n",
    "    # Per-year reducer\n",
    "    def per_year(year):\n",
    "        year = ee.Number(year)\n",
    "        start = ee.Date.fromYMD(year, 7, 1)\n",
    "        end = ee.Date.fromYMD(year, 8, 31)\n",
    "\n",
    "        image = (ls.filterDate(start, end)\n",
    "                   .filterBounds(geom)\n",
    "                   .select(['NDVI', 'EVI', 'SAVI', 'GNDVI'])\n",
    "                   .median())\n",
    "\n",
    "        stats = image.reduceRegion(\n",
    "            reducer=ee.Reducer.mean(),\n",
    "            geometry=geom,\n",
    "            scale=30,\n",
    "            maxPixels=1e13\n",
    "        )\n",
    "\n",
    "        return ee.Feature(None, {\n",
    "            'year': year,\n",
    "            'NDVI': ee.Algorithms.If(stats.contains('NDVI'), stats.get('NDVI'), None),\n",
    "            'EVI': ee.Algorithms.If(stats.contains('EVI'), stats.get('EVI'), None),\n",
    "            'SAVI': ee.Algorithms.If(stats.contains('SAVI'), stats.get('SAVI'), None),\n",
    "            'GNDVI': ee.Algorithms.If(stats.contains('GNDVI'), stats.get('GNDVI'), None)\n",
    "        })\n",
    "\n",
    "    years = ee.List.sequence(2013, 2024)\n",
    "    return ee.FeatureCollection(years.map(per_year))"
   ]
  },
  {
   "cell_type": "code",
   "execution_count": 14,
   "id": "3282bfdc-d0b8-4bfb-9fab-89beb0b402f1",
   "metadata": {},
   "outputs": [
    {
     "name": "stdout",
     "output_type": "stream",
     "text": [
      "         EVI     GNDVI      NDVI      SAVI  year\n",
      "0   0.201797  0.382514  0.297450  0.201409  2013\n",
      "1   0.156617  0.340433  0.228699  0.158500  2014\n",
      "2   0.205735  0.393215  0.313437  0.205261  2015\n",
      "3   0.172579  0.361207  0.260047  0.173682  2016\n",
      "4   0.176479  0.357114  0.257900  0.176982  2017\n",
      "5   0.185290  0.372538  0.281785  0.185642  2018\n",
      "6   0.155169  0.344363  0.235661  0.157168  2019\n",
      "7   0.168093  0.357245  0.252631  0.169270  2020\n",
      "8   0.222993  0.400020  0.322580  0.220455  2021\n",
      "9   0.174551  0.360149  0.258391  0.176031  2022\n",
      "10  0.152556  0.342218  0.224135  0.155061  2023\n",
      "11  0.163552  0.351936  0.243115  0.164288  2024\n"
     ]
    }
   ],
   "source": [
    "fc = annual_veg_indices_fc(pa)\n",
    "results = fc.getInfo()\n",
    "df_pa = pd.DataFrame([f['properties'] for f in results['features']])\n",
    "print(df_pa)"
   ]
  },
  {
   "cell_type": "code",
   "execution_count": 21,
   "id": "54f8ffa9-8292-471d-b1aa-c38764b48f7a",
   "metadata": {},
   "outputs": [
    {
     "name": "stdout",
     "output_type": "stream",
     "text": [
      "         EVI     GNDVI      NDVI      SAVI  year\n",
      "0   0.211313  0.393116  0.317048  0.210431  2013\n",
      "1   0.181122  0.367741  0.272625  0.181650  2014\n",
      "2   0.214229  0.404602  0.331667  0.213336  2015\n",
      "3   0.182868  0.373849  0.278407  0.183738  2016\n",
      "4   0.192038  0.373385  0.285242  0.191507  2017\n",
      "5   0.196720  0.387999  0.305871  0.197021  2018\n",
      "6   0.167901  0.359532  0.258916  0.169257  2019\n",
      "7   0.176795  0.368427  0.269440  0.177628  2020\n",
      "8   0.232735  0.412625  0.342766  0.229851  2021\n",
      "9   0.180239  0.368425  0.271655  0.181441  2022\n",
      "10  0.161713  0.353224  0.242044  0.163652  2023\n",
      "11  0.182499  0.372174  0.274771  0.182307  2024\n"
     ]
    }
   ],
   "source": [
    "fc = annual_veg_indices_fc(buffer)\n",
    "results = fc.getInfo()\n",
    "df_buffer = pd.DataFrame([f['properties'] for f in results['features']])\n",
    "print(df_buffer)"
   ]
  },
  {
   "cell_type": "code",
   "execution_count": 22,
   "id": "0739da6d-c31b-4191-b0df-4f31a95727f6",
   "metadata": {},
   "outputs": [],
   "source": [
    "df_buffer.to_excel('2887_PA_RS_Index.xlsx')"
   ]
  },
  {
   "cell_type": "code",
   "execution_count": null,
   "id": "f016012a-0dc0-4e7e-8781-adfaf2179a42",
   "metadata": {},
   "outputs": [],
   "source": []
  },
  {
   "cell_type": "code",
   "execution_count": null,
   "id": "6747050f-ee0e-42eb-8b7f-6d22e4bf37ab",
   "metadata": {},
   "outputs": [],
   "source": []
  },
  {
   "cell_type": "code",
   "execution_count": null,
   "id": "cd79ee0f-2b5e-4745-9704-218b127bb682",
   "metadata": {},
   "outputs": [],
   "source": []
  },
  {
   "cell_type": "code",
   "execution_count": null,
   "id": "c170e7b3-b5db-4a51-81ea-f52e96bdb1fc",
   "metadata": {},
   "outputs": [],
   "source": []
  }
 ],
 "metadata": {
  "kernelspec": {
   "display_name": "Python 3 (ipykernel)",
   "language": "python",
   "name": "python3"
  },
  "language_info": {
   "codemirror_mode": {
    "name": "ipython",
    "version": 3
   },
   "file_extension": ".py",
   "mimetype": "text/x-python",
   "name": "python",
   "nbconvert_exporter": "python",
   "pygments_lexer": "ipython3",
   "version": "3.10.6"
  }
 },
 "nbformat": 4,
 "nbformat_minor": 5
}
